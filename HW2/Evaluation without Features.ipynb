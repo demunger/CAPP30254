{
 "cells": [
  {
   "cell_type": "code",
   "execution_count": 1,
   "metadata": {
    "collapsed": true
   },
   "outputs": [],
   "source": [
    "%matplotlib inline"
   ]
  },
  {
   "cell_type": "code",
   "execution_count": 2,
   "metadata": {
    "collapsed": true
   },
   "outputs": [],
   "source": [
    "%run hw2.py"
   ]
  },
  {
   "cell_type": "code",
   "execution_count": 3,
   "metadata": {
    "collapsed": true
   },
   "outputs": [],
   "source": [
    "training_filename = \"cs-training.csv\"\n",
    "scoring_filename = \"cs-test.csv\"\n",
    "training_data = read_data(training_filename)"
   ]
  },
  {
   "cell_type": "code",
   "execution_count": 4,
   "metadata": {
    "collapsed": true
   },
   "outputs": [],
   "source": [
    "missing_columns = get_missing_columns(training_data)\n",
    "training_data = condition_means_imputaion(training_data, missing_columns)"
   ]
  },
  {
   "cell_type": "code",
   "execution_count": 5,
   "metadata": {
    "collapsed": true
   },
   "outputs": [],
   "source": [
    "models_framework = [(\"Logit\", logistic_regression), (\"K-NN\", k_nearest_neighbor), (\"SVC\", linear_svc)]\n",
    "built_models = [model[1](training_data) for model in models_framework]"
   ]
  },
  {
   "cell_type": "code",
   "execution_count": 6,
   "metadata": {
    "collapsed": false
   },
   "outputs": [
    {
     "name": "stdout",
     "output_type": "stream",
     "text": [
      "Accuracy on training data for:\n",
      "\tLogit: \t93.4%\n",
      "\tK-NN: \t94.7%\n",
      "\tSVC: \t93.4%\n"
     ]
    }
   ],
   "source": [
    "accuracy = [test_accuracy(model, training_data) for model in built_models]\n",
    "print(\"Accuracy on training data for:\")\n",
    "for i, percent in enumerate(accuracy):\n",
    "    print(\"\\t{}: \\t{:.1%}\".format(models_framework[i][0], percent))"
   ]
  }
 ],
 "metadata": {
  "kernelspec": {
   "display_name": "Python 3",
   "language": "python",
   "name": "python3"
  },
  "language_info": {
   "codemirror_mode": {
    "name": "ipython",
    "version": 3
   },
   "file_extension": ".py",
   "mimetype": "text/x-python",
   "name": "python",
   "nbconvert_exporter": "python",
   "pygments_lexer": "ipython3",
   "version": "3.4.3"
  }
 },
 "nbformat": 4,
 "nbformat_minor": 0
}
