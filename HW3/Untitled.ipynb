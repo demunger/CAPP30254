{
 "cells": [
  {
   "cell_type": "code",
   "execution_count": 1,
   "metadata": {
    "collapsed": false,
    "scrolled": false
   },
   "outputs": [
    {
     "name": "stdout",
     "output_type": "stream",
     "text": [
      "SVM\n",
      "Fitting 3 folds for each of 7 candidates, totalling 21 fits\n",
      "[CV] C=1e-05 .........................................................\n",
      "[CV] ................................ C=1e-05, score=0.953901 -   0.2s\n",
      "[CV] C=1e-05 .........................................................\n",
      "[CV] ................................ C=1e-05, score=0.954125 -   0.2s"
     ]
    },
    {
     "name": "stderr",
     "output_type": "stream",
     "text": [
      "[Parallel(n_jobs=1)]: Done   1 jobs       | elapsed:    0.2s\n",
      "[Parallel(n_jobs=1)]: Done   2 jobs       | elapsed:    0.4s\n"
     ]
    },
    {
     "name": "stdout",
     "output_type": "stream",
     "text": [
      "\n",
      "[CV] C=1e-05 .........................................................\n",
      "[CV] ................................ C=1e-05, score=0.953424 -   0.2s\n",
      "[CV] C=0.0001 ........................................................\n",
      "[CV] ............................... C=0.0001, score=0.954226 -   0.2s\n",
      "[CV] C=0.0001 ........................................................\n",
      "[CV] ............................... C=0.0001, score=0.954400 -   0.2s\n",
      "[CV] C=0.0001 ........................................................\n",
      "[CV] ............................... C=0.0001, score=0.953649 -   0.2s\n",
      "[CV] C=0.001 .........................................................\n",
      "[CV] ................................ C=0.001, score=0.954176 -   0.6s\n",
      "[CV] C=0.001 .........................................................\n",
      "[CV] ................................ C=0.001, score=0.954325 -   0.6s"
     ]
    },
    {
     "name": "stderr",
     "output_type": "stream",
     "text": [
      "[Parallel(n_jobs=1)]: Done   5 jobs       | elapsed:    1.1s\n",
      "[Parallel(n_jobs=1)]: Done   8 jobs       | elapsed:    2.5s\n"
     ]
    },
    {
     "name": "stdout",
     "output_type": "stream",
     "text": [
      "\n",
      "[CV] C=0.001 .........................................................\n",
      "[CV] ................................ C=0.001, score=0.953599 -   0.6s\n",
      "[CV] C=0.01 ..........................................................\n",
      "[CV] ................................. C=0.01, score=0.954251 -   3.6s\n",
      "[CV] C=0.01 ..........................................................\n",
      "[CV] ................................. C=0.01, score=0.954275 -   3.5s\n",
      "[CV] C=0.01 ..........................................................\n",
      "[CV] ................................. C=0.01, score=0.953549 -   4.4s\n",
      "[CV] C=0.1 ...........................................................\n",
      "[CV] .................................. C=0.1, score=0.954401 -   9.7s\n",
      "[CV] C=0.1 ...........................................................\n",
      "[CV] .................................. C=0.1, score=0.954250 -   9.1s\n",
      "[CV] C=0.1 ...........................................................\n",
      "[CV] .................................. C=0.1, score=0.953949 -  10.2s\n",
      "[CV] C=1 .............................................................\n",
      "[CV] .................................... C=1, score=0.954326 -   9.2s\n",
      "[CV] C=1 .............................................................\n",
      "[CV] .................................... C=1, score=0.954250 -   8.9s\n",
      "[CV] C=1 .............................................................\n",
      "[CV] .................................... C=1, score=0.953974 -   8.4s"
     ]
    },
    {
     "name": "stderr",
     "output_type": "stream",
     "text": [
      "[Parallel(n_jobs=1)]: Done  13 jobs       | elapsed:   24.4s\n",
      "[Parallel(n_jobs=1)]: Done  18 jobs       | elapsed:  1.2min\n"
     ]
    },
    {
     "name": "stdout",
     "output_type": "stream",
     "text": [
      "\n",
      "[CV] C=10 ............................................................\n",
      "[CV] ................................... C=10, score=0.954251 -   9.4s\n",
      "[CV] C=10 ............................................................\n",
      "[CV] ................................... C=10, score=0.954450 -   9.4s\n",
      "[CV] C=10 ............................................................\n",
      "[CV] ................................... C=10, score=0.953799 -   9.5s\n",
      "22463\n",
      "22463\n"
     ]
    },
    {
     "name": "stderr",
     "output_type": "stream",
     "text": [
      "[Parallel(n_jobs=1)]: Done  21 out of  21 | elapsed:  1.6min finished\n"
     ]
    },
    {
     "data": {
      "text/plain": [
       "<matplotlib.figure.Figure at 0x7f1a21743da0>"
      ]
     },
     "metadata": {},
     "output_type": "display_data"
    },
    {
     "data": {
      "image/png": "[encoded data removed]",
      "text/plain": [
       "<matplotlib.figure.Figure at 0x7f1a2143f7b8>"
      ]
     },
     "metadata": {},
     "output_type": "display_data"
    },
    {
     "data": {
      "image/png": "[encoded data removed]",
      "text/plain": [
       "<matplotlib.figure.Figure at 0x7f1a216a0630>"
      ]
     },
     "metadata": {},
     "output_type": "display_data"
    },
    {
     "name": "stdout",
     "output_type": "stream",
     "text": [
      "Random Forest\n",
      "Fitting 3 folds for each of 180 candidates, totalling 540 fits\n",
      "[CV] min_samples_split=2, max_features=sqrt, max_depth=1, n_estimators=1 \n",
      "[CV]  min_samples_split=2, max_features=sqrt, max_depth=1, n_estimators=1, score=0.946801 -   0.1s\n",
      "[CV] min_samples_split=2, max_features=sqrt, max_depth=1, n_estimators=1 \n",
      "[CV]  min_samples_split=2, max_features=sqrt, max_depth=1, n_estimators=1, score=0.954275 -   0.1s"
     ]
    },
    {
     "name": "stderr",
     "output_type": "stream",
     "text": [
      "[Parallel(n_jobs=1)]: Done   1 jobs       | elapsed:    0.1s\n",
      "[Parallel(n_jobs=1)]: Done   2 jobs       | elapsed:    0.1s\n"
     ]
    },
    {
     "name": "stdout",
     "output_type": "stream",
     "text": [
      "\n",
      "[CV] min_samples_split=2, max_features=sqrt, max_depth=1, n_estimators=1 \n",
      "[CV]  min_samples_split=2, max_features=sqrt, max_depth=1, n_estimators=1, score=0.953274 -   0.1s\n",
      "[CV] min_samples_split=2, max_features=sqrt, max_depth=1, n_estimators=10 \n",
      "[CV]  min_samples_split=2, max_features=sqrt, max_depth=1, n_estimators=10, score=0.955026 -   0.2s\n",
      "[CV] min_samples_split=2, max_features=sqrt, max_depth=1, n_estimators=10 \n",
      "[CV]  min_samples_split=2, max_features=sqrt, max_depth=1, n_estimators=10, score=0.955450 -   0.2s\n",
      "[CV] min_samples_split=2, max_features=sqrt, max_depth=1, n_estimators=10 \n",
      "[CV]  min_samples_split=2, max_features=sqrt, max_depth=1, n_estimators=10, score=0.954724 -   0.2s\n",
      "[CV] min_samples_split=2, max_features=sqrt, max_depth=1, n_estimators=100 \n",
      "[CV]  min_samples_split=2, max_features=sqrt, max_depth=1, n_estimators=100, score=0.955026 -   1.3s\n",
      "[CV] min_samples_split=2, max_features=sqrt, max_depth=1, n_estimators=100 \n",
      "[CV]  min_samples_split=2, max_features=sqrt, max_depth=1, n_estimators=100, score=0.955425 -   1.3s"
     ]
    },
    {
     "name": "stderr",
     "output_type": "stream",
     "text": [
      "[Parallel(n_jobs=1)]: Done   5 jobs       | elapsed:    0.6s\n",
      "[Parallel(n_jobs=1)]: Done   8 jobs       | elapsed:    3.5s\n"
     ]
    },
    {
     "name": "stdout",
     "output_type": "stream",
     "text": [
      "\n",
      "[CV] min_samples_split=2, max_features=sqrt, max_depth=1, n_estimators=100 \n",
      "[CV]  min_samples_split=2, max_features=sqrt, max_depth=1, n_estimators=100, score=0.954724 -   1.4s\n",
      "[CV] min_samples_split=2, max_features=sqrt, max_depth=1, n_estimators=1000 \n",
      "[CV]  min_samples_split=2, max_features=sqrt, max_depth=1, n_estimators=1000, score=0.955026 -  12.8s\n",
      "[CV] min_samples_split=2, max_features=sqrt, max_depth=1, n_estimators=1000 \n",
      "[CV]  min_samples_split=2, max_features=sqrt, max_depth=1, n_estimators=1000, score=0.955450 -  12.1s\n",
      "[CV] min_samples_split=2, max_features=sqrt, max_depth=1, n_estimators=1000 \n",
      "[CV]  min_samples_split=2, max_features=sqrt, max_depth=1, n_estimators=1000, score=0.954674 -  12.0s\n",
      "[CV] min_samples_split=2, max_features=sqrt, max_depth=1, n_estimators=10000 \n",
      "[CV]  min_samples_split=2, max_features=sqrt, max_depth=1, n_estimators=10000, score=0.955026 - 2.0min\n",
      "[CV] min_samples_split=2, max_features=sqrt, max_depth=1, n_estimators=10000 \n",
      "[CV]  min_samples_split=2, max_features=sqrt, max_depth=1, n_estimators=10000, score=0.955450 - 2.0min\n",
      "[CV] min_samples_split=2, max_features=sqrt, max_depth=1, n_estimators=10000 \n",
      "[CV]  min_samples_split=2, max_features=sqrt, max_depth=1, n_estimators=10000, score=0.954674 - 2.1min\n",
      "[CV] min_samples_split=5, max_features=sqrt, max_depth=1, n_estimators=1 \n",
      "[CV]  min_samples_split=5, max_features=sqrt, max_depth=1, n_estimators=1, score=0.942576 -   0.1s\n",
      "[CV] min_samples_split=5, max_features=sqrt, max_depth=1, n_estimators=1 \n",
      "[CV]  min_samples_split=5, max_features=sqrt, max_depth=1, n_estimators=1, score=0.953825 -   0.1s\n",
      "[CV] min_samples_split=5, max_features=sqrt, max_depth=1, n_estimators=1 \n",
      "[CV]  min_samples_split=5, max_features=sqrt, max_depth=1, n_estimators=1, score=0.946799 -   0.1s"
     ]
    },
    {
     "name": "stderr",
     "output_type": "stream",
     "text": [
      "[Parallel(n_jobs=1)]: Done  13 jobs       | elapsed:  2.7min\n",
      "[Parallel(n_jobs=1)]: Done  18 jobs       | elapsed:  6.8min\n"
     ]
    },
    {
     "name": "stdout",
     "output_type": "stream",
     "text": [
      "\n",
      "[CV] min_samples_split=5, max_features=sqrt, max_depth=1, n_estimators=10 \n",
      "[CV]  min_samples_split=5, max_features=sqrt, max_depth=1, n_estimators=10, score=0.954276 -   0.2s\n",
      "[CV] min_samples_split=5, max_features=sqrt, max_depth=1, n_estimators=10 \n",
      "[CV]  min_samples_split=5, max_features=sqrt, max_depth=1, n_estimators=10, score=0.955450 -   0.2s\n",
      "[CV] min_samples_split=5, max_features=sqrt, max_depth=1, n_estimators=10 \n",
      "[CV]  min_samples_split=5, max_features=sqrt, max_depth=1, n_estimators=10, score=0.954749 -   0.2s\n",
      "[CV] min_samples_split=5, max_features=sqrt, max_depth=1, n_estimators=100 \n",
      "[CV]  min_samples_split=5, max_features=sqrt, max_depth=1, n_estimators=100, score=0.954976 -   1.3s\n",
      "[CV] min_samples_split=5, max_features=sqrt, max_depth=1, n_estimators=100 \n",
      "[CV]  min_samples_split=5, max_features=sqrt, max_depth=1, n_estimators=100, score=0.955450 -   1.2s\n",
      "[CV] min_samples_split=5, max_features=sqrt, max_depth=1, n_estimators=100 \n",
      "[CV]  min_samples_split=5, max_features=sqrt, max_depth=1, n_estimators=100, score=0.954674 -   1.3s\n",
      "[CV] min_samples_split=5, max_features=sqrt, max_depth=1, n_estimators=1000 \n",
      "[CV]  min_samples_split=5, max_features=sqrt, max_depth=1, n_estimators=1000, score=0.955001 -  12.1s\n",
      "[CV] min_samples_split=5, max_features=sqrt, max_depth=1, n_estimators=1000 \n",
      "[CV]  min_samples_split=5, max_features=sqrt, max_depth=1, n_estimators=1000, score=0.955450 -  12.1s\n",
      "[CV] min_samples_split=5, max_features=sqrt, max_depth=1, n_estimators=1000 \n",
      "[CV]  min_samples_split=5, max_features=sqrt, max_depth=1, n_estimators=1000, score=0.954674 -  12.1s\n",
      "[CV] min_samples_split=5, max_features=sqrt, max_depth=1, n_estimators=10000 \n",
      "[CV]  min_samples_split=5, max_features=sqrt, max_depth=1, n_estimators=10000, score=0.955001 - 2.0min\n",
      "[CV] min_samples_split=5, max_features=sqrt, max_depth=1, n_estimators=10000 \n",
      "[CV]  min_samples_split=5, max_features=sqrt, max_depth=1, n_estimators=10000, score=0.955450 - 2.0min\n",
      "[CV] min_samples_split=5, max_features=sqrt, max_depth=1, n_estimators=10000 \n",
      "[CV]  min_samples_split=5, max_features=sqrt, max_depth=1, n_estimators=10000, score=0.954674 - 2.0min\n",
      "[CV] min_samples_split=10, max_features=sqrt, max_depth=1, n_estimators=1 \n",
      "[CV]  min_samples_split=10, max_features=sqrt, max_depth=1, n_estimators=1, score=0.955026 -   0.1s\n",
      "[CV] min_samples_split=10, max_features=sqrt, max_depth=1, n_estimators=1 \n",
      "[CV]  min_samples_split=10, max_features=sqrt, max_depth=1, n_estimators=1, score=0.955475 -   0.1s"
     ]
    },
    {
     "name": "stderr",
     "output_type": "stream",
     "text": [
      "[Parallel(n_jobs=1)]: Done  25 jobs       | elapsed:  7.1min\n",
      "[Parallel(n_jobs=1)]: Done  32 jobs       | elapsed: 13.6min\n"
     ]
    },
    {
     "name": "stdout",
     "output_type": "stream",
     "text": [
      "\n",
      "[CV] min_samples_split=10, max_features=sqrt, max_depth=1, n_estimators=1 \n",
      "[CV]  min_samples_split=10, max_features=sqrt, max_depth=1, n_estimators=1, score=0.954749 -   0.1s\n",
      "[CV] min_samples_split=10, max_features=sqrt, max_depth=1, n_estimators=10 \n",
      "[CV]  min_samples_split=10, max_features=sqrt, max_depth=1, n_estimators=10, score=0.955026 -   0.2s\n",
      "[CV] min_samples_split=10, max_features=sqrt, max_depth=1, n_estimators=10 \n",
      "[CV]  min_samples_split=10, max_features=sqrt, max_depth=1, n_estimators=10, score=0.955450 -   0.2s\n",
      "[CV] min_samples_split=10, max_features=sqrt, max_depth=1, n_estimators=10 \n",
      "[CV]  min_samples_split=10, max_features=sqrt, max_depth=1, n_estimators=10, score=0.954274 -   0.2s\n",
      "[CV] min_samples_split=10, max_features=sqrt, max_depth=1, n_estimators=100 \n",
      "[CV]  min_samples_split=10, max_features=sqrt, max_depth=1, n_estimators=100, score=0.954951 -   1.3s\n",
      "[CV] min_samples_split=10, max_features=sqrt, max_depth=1, n_estimators=100 \n",
      "[CV]  min_samples_split=10, max_features=sqrt, max_depth=1, n_estimators=100, score=0.955375 -   1.4s\n",
      "[CV] min_samples_split=10, max_features=sqrt, max_depth=1, n_estimators=100 \n",
      "[CV]  min_samples_split=10, max_features=sqrt, max_depth=1, n_estimators=100, score=0.954649 -   1.3s\n",
      "[CV] min_samples_split=10, max_features=sqrt, max_depth=1, n_estimators=1000 \n",
      "[CV]  min_samples_split=10, max_features=sqrt, max_depth=1, n_estimators=1000, score=0.955001 -  12.6s\n",
      "[CV] min_samples_split=10, max_features=sqrt, max_depth=1, n_estimators=1000 \n",
      "[CV]  min_samples_split=10, max_features=sqrt, max_depth=1, n_estimators=1000, score=0.955450 -  12.4s\n",
      "[CV] min_samples_split=10, max_features=sqrt, max_depth=1, n_estimators=1000 \n",
      "[CV]  min_samples_split=10, max_features=sqrt, max_depth=1, n_estimators=1000, score=0.954749 -  12.4s\n",
      "[CV] min_samples_split=10, max_features=sqrt, max_depth=1, n_estimators=10000 \n",
      "[CV]  min_samples_split=10, max_features=sqrt, max_depth=1, n_estimators=10000, score=0.955026 - 2.1min\n",
      "[CV] min_samples_split=10, max_features=sqrt, max_depth=1, n_estimators=10000 \n",
      "[CV]  min_samples_split=10, max_features=sqrt, max_depth=1, n_estimators=10000, score=0.955450 - 2.1min\n",
      "[CV] min_samples_split=10, max_features=sqrt, max_depth=1, n_estimators=10000 \n",
      "[CV]  min_samples_split=10, max_features=sqrt, max_depth=1, n_estimators=10000, score=0.954674 - 2.1min\n",
      "[CV] min_samples_split=2, max_features=log2, max_depth=1, n_estimators=1 \n",
      "[CV]  min_samples_split=2, max_features=log2, max_depth=1, n_estimators=1, score=0.955026 -   0.1s\n",
      "[CV] min_samples_split=2, max_features=log2, max_depth=1, n_estimators=1 \n",
      "[CV]  min_samples_split=2, max_features=log2, max_depth=1, n_estimators=1, score=0.955475 -   0.1s\n",
      "[CV] min_samples_split=2, max_features=log2, max_depth=1, n_estimators=1 \n",
      "[CV]  min_samples_split=2, max_features=log2, max_depth=1, n_estimators=1, score=0.946799 -   0.1s\n",
      "[CV] min_samples_split=2, max_features=log2, max_depth=1, n_estimators=10 \n",
      "[CV]  min_samples_split=2, max_features=log2, max_depth=1, n_estimators=10, score=0.954901 -   0.2s\n",
      "[CV] min_samples_split=2, max_features=log2, max_depth=1, n_estimators=10 \n",
      "[CV]  min_samples_split=2, max_features=log2, max_depth=1, n_estimators=10, score=0.955450 -   0.2s"
     ]
    },
    {
     "name": "stderr",
     "output_type": "stream",
     "text": [
      "[Parallel(n_jobs=1)]: Done  41 jobs       | elapsed: 14.1min\n",
      "[Parallel(n_jobs=1)]: Done  50 jobs       | elapsed: 20.6min\n"
     ]
    },
    {
     "name": "stdout",
     "output_type": "stream",
     "text": [
      "\n",
      "[CV] min_samples_split=2, max_features=log2, max_depth=1, n_estimators=10 \n",
      "[CV]  min_samples_split=2, max_features=log2, max_depth=1, n_estimators=10, score=0.953299 -   0.2s\n",
      "[CV] min_samples_split=2, max_features=log2, max_depth=1, n_estimators=100 \n",
      "[CV]  min_samples_split=2, max_features=log2, max_depth=1, n_estimators=100, score=0.955026 -   1.3s\n",
      "[CV] min_samples_split=2, max_features=log2, max_depth=1, n_estimators=100 \n",
      "[CV]  min_samples_split=2, max_features=log2, max_depth=1, n_estimators=100, score=0.955450 -   1.3s\n",
      "[CV] min_samples_split=2, max_features=log2, max_depth=1, n_estimators=100 \n",
      "[CV]  min_samples_split=2, max_features=log2, max_depth=1, n_estimators=100, score=0.954674 -   1.3s\n",
      "[CV] min_samples_split=2, max_features=log2, max_depth=1, n_estimators=1000 \n",
      "[CV]  min_samples_split=2, max_features=log2, max_depth=1, n_estimators=1000, score=0.955001 -  12.2s\n",
      "[CV] min_samples_split=2, max_features=log2, max_depth=1, n_estimators=1000 \n",
      "[CV]  min_samples_split=2, max_features=log2, max_depth=1, n_estimators=1000, score=0.955450 -  12.3s\n",
      "[CV] min_samples_split=2, max_features=log2, max_depth=1, n_estimators=1000 \n",
      "[CV]  min_samples_split=2, max_features=log2, max_depth=1, n_estimators=1000, score=0.954674 -  12.4s\n",
      "[CV] min_samples_split=2, max_features=log2, max_depth=1, n_estimators=10000 \n",
      "[CV]  min_samples_split=2, max_features=log2, max_depth=1, n_estimators=10000, score=0.955001 - 2.1min\n",
      "[CV] min_samples_split=2, max_features=log2, max_depth=1, n_estimators=10000 \n",
      "[CV]  min_samples_split=2, max_features=log2, max_depth=1, n_estimators=10000, score=0.955450 - 2.1min\n",
      "[CV] min_samples_split=2, max_features=log2, max_depth=1, n_estimators=10000 \n",
      "[CV]  min_samples_split=2, max_features=log2, max_depth=1, n_estimators=10000, score=0.954674 - 2.1min\n",
      "[CV] min_samples_split=5, max_features=log2, max_depth=1, n_estimators=1 \n",
      "[CV]  min_samples_split=5, max_features=log2, max_depth=1, n_estimators=1, score=0.955026 -   0.1s\n",
      "[CV] min_samples_split=5, max_features=log2, max_depth=1, n_estimators=1 \n",
      "[CV]  min_samples_split=5, max_features=log2, max_depth=1, n_estimators=1, score=0.954275 -   0.1s\n",
      "[CV] min_samples_split=5, max_features=log2, max_depth=1, n_estimators=1 \n",
      "[CV]  min_samples_split=5, max_features=log2, max_depth=1, n_estimators=1, score=0.953799 -   0.1s\n",
      "[CV] min_samples_split=5, max_features=log2, max_depth=1, n_estimators=10 \n",
      "[CV]  min_samples_split=5, max_features=log2, max_depth=1, n_estimators=10, score=0.954276 -   0.2s\n",
      "[CV] min_samples_split=5, max_features=log2, max_depth=1, n_estimators=10 \n",
      "[CV]  min_samples_split=5, max_features=log2, max_depth=1, n_estimators=10, score=0.954750 -   0.2s\n",
      "[CV] min_samples_split=5, max_features=log2, max_depth=1, n_estimators=10 \n",
      "[CV]  min_samples_split=5, max_features=log2, max_depth=1, n_estimators=10, score=0.953799 -   0.2s\n",
      "[CV] min_samples_split=5, max_features=log2, max_depth=1, n_estimators=100 \n",
      "[CV]  min_samples_split=5, max_features=log2, max_depth=1, n_estimators=100, score=0.955026 -   1.3s\n",
      "[CV] min_samples_split=5, max_features=log2, max_depth=1, n_estimators=100 \n",
      "[CV]  min_samples_split=5, max_features=log2, max_depth=1, n_estimators=100, score=0.955475 -   1.3s\n",
      "[CV] min_samples_split=5, max_features=log2, max_depth=1, n_estimators=100 \n",
      "[CV]  min_samples_split=5, max_features=log2, max_depth=1, n_estimators=100, score=0.954724 -   1.3s\n",
      "[CV] min_samples_split=5, max_features=log2, max_depth=1, n_estimators=1000 \n",
      "[CV]  min_samples_split=5, max_features=log2, max_depth=1, n_estimators=1000, score=0.955026 -  11.9s\n",
      "[CV] min_samples_split=5, max_features=log2, max_depth=1, n_estimators=1000 \n",
      "[CV]  min_samples_split=5, max_features=log2, max_depth=1, n_estimators=1000, score=0.955375 -  12.1s\n",
      "[CV] min_samples_split=5, max_features=log2, max_depth=1, n_estimators=1000 \n",
      "[CV]  min_samples_split=5, max_features=log2, max_depth=1, n_estimators=1000, score=0.954674 -  11.9s"
     ]
    },
    {
     "name": "stderr",
     "output_type": "stream",
     "text": [
      "[Parallel(n_jobs=1)]: Done  61 jobs       | elapsed: 27.6min\n",
      "[Parallel(n_jobs=1)]: Done  72 jobs       | elapsed: 28.2min\n"
     ]
    },
    {
     "name": "stdout",
     "output_type": "stream",
     "text": [
      "\n",
      "[CV] min_samples_split=5, max_features=log2, max_depth=1, n_estimators=10000 \n",
      "[CV]  min_samples_split=5, max_features=log2, max_depth=1, n_estimators=10000, score=0.955026 - 2.0min\n",
      "[CV] min_samples_split=5, max_features=log2, max_depth=1, n_estimators=10000 \n",
      "[CV]  min_samples_split=5, max_features=log2, max_depth=1, n_estimators=10000, score=0.955450 - 2.0min\n",
      "[CV] min_samples_split=5, max_features=log2, max_depth=1, n_estimators=10000 \n",
      "[CV]  min_samples_split=5, max_features=log2, max_depth=1, n_estimators=10000, score=0.954674 - 2.0min\n",
      "[CV] min_samples_split=10, max_features=log2, max_depth=1, n_estimators=1 \n",
      "[CV]  min_samples_split=10, max_features=log2, max_depth=1, n_estimators=1, score=0.954276 -   0.1s\n",
      "[CV] min_samples_split=10, max_features=log2, max_depth=1, n_estimators=1 \n",
      "[CV]  min_samples_split=10, max_features=log2, max_depth=1, n_estimators=1, score=0.954275 -   0.1s\n",
      "[CV] min_samples_split=10, max_features=log2, max_depth=1, n_estimators=1 \n",
      "[CV]  min_samples_split=10, max_features=log2, max_depth=1, n_estimators=1, score=0.946799 -   0.1s\n",
      "[CV] min_samples_split=10, max_features=log2, max_depth=1, n_estimators=10 \n",
      "[CV]  min_samples_split=10, max_features=log2, max_depth=1, n_estimators=10, score=0.955026 -   0.2s\n",
      "[CV] min_samples_split=10, max_features=log2, max_depth=1, n_estimators=10 \n",
      "[CV]  min_samples_split=10, max_features=log2, max_depth=1, n_estimators=10, score=0.955350 -   0.2s\n",
      "[CV] min_samples_split=10, max_features=log2, max_depth=1, n_estimators=10 \n",
      "[CV]  min_samples_split=10, max_features=log2, max_depth=1, n_estimators=10, score=0.954649 -   0.2s\n",
      "[CV] min_samples_split=10, max_features=log2, max_depth=1, n_estimators=100 \n",
      "[CV]  min_samples_split=10, max_features=log2, max_depth=1, n_estimators=100, score=0.955026 -   1.2s\n",
      "[CV] min_samples_split=10, max_features=log2, max_depth=1, n_estimators=100 \n",
      "[CV]  min_samples_split=10, max_features=log2, max_depth=1, n_estimators=100, score=0.955475 -   1.2s\n",
      "[CV] min_samples_split=10, max_features=log2, max_depth=1, n_estimators=100 \n",
      "[CV]  min_samples_split=10, max_features=log2, max_depth=1, n_estimators=100, score=0.954674 -   1.2s\n",
      "[CV] min_samples_split=10, max_features=log2, max_depth=1, n_estimators=1000 \n",
      "[CV]  min_samples_split=10, max_features=log2, max_depth=1, n_estimators=1000, score=0.954951 -  12.7s\n",
      "[CV] min_samples_split=10, max_features=log2, max_depth=1, n_estimators=1000 \n",
      "[CV]  min_samples_split=10, max_features=log2, max_depth=1, n_estimators=1000, score=0.955450 -  12.5s\n",
      "[CV] min_samples_split=10, max_features=log2, max_depth=1, n_estimators=1000 \n",
      "[CV]  min_samples_split=10, max_features=log2, max_depth=1, n_estimators=1000, score=0.954674 -  12.8s\n",
      "[CV] min_samples_split=10, max_features=log2, max_depth=1, n_estimators=10000 \n",
      "[CV]  min_samples_split=10, max_features=log2, max_depth=1, n_estimators=10000, score=0.955001 - 2.1min\n",
      "[CV] min_samples_split=10, max_features=log2, max_depth=1, n_estimators=10000 \n",
      "[CV]  min_samples_split=10, max_features=log2, max_depth=1, n_estimators=10000, score=0.955450 - 2.1min\n",
      "[CV] min_samples_split=10, max_features=log2, max_depth=1, n_estimators=10000 \n",
      "[CV]  min_samples_split=10, max_features=log2, max_depth=1, n_estimators=10000, score=0.954674 - 2.1min\n",
      "[CV] min_samples_split=2, max_features=sqrt, max_depth=5, n_estimators=1 \n",
      "[CV]  min_samples_split=2, max_features=sqrt, max_depth=5, n_estimators=1, score=0.955051 -   0.1s\n",
      "[CV] min_samples_split=2, max_features=sqrt, max_depth=5, n_estimators=1 \n",
      "[CV]  min_samples_split=2, max_features=sqrt, max_depth=5, n_estimators=1, score=0.955475 -   0.1s\n",
      "[CV] min_samples_split=2, max_features=sqrt, max_depth=5, n_estimators=1 \n",
      "[CV]  min_samples_split=2, max_features=sqrt, max_depth=5, n_estimators=1, score=0.955224 -   0.1s\n",
      "[CV] min_samples_split=2, max_features=sqrt, max_depth=5, n_estimators=10 \n",
      "[CV]  min_samples_split=2, max_features=sqrt, max_depth=5, n_estimators=10, score=0.955676 -   0.4s\n",
      "[CV] min_samples_split=2, max_features=sqrt, max_depth=5, n_estimators=10 \n",
      "[CV]  min_samples_split=2, max_features=sqrt, max_depth=5, n_estimators=10, score=0.956300 -   0.4s\n",
      "[CV] min_samples_split=2, max_features=sqrt, max_depth=5, n_estimators=10 \n",
      "[CV]  min_samples_split=2, max_features=sqrt, max_depth=5, n_estimators=10, score=0.955149 -   0.4s\n",
      "[CV] min_samples_split=2, max_features=sqrt, max_depth=5, n_estimators=100 \n",
      "[CV]  min_samples_split=2, max_features=sqrt, max_depth=5, n_estimators=100, score=0.955476 -   3.6s\n",
      "[CV] min_samples_split=2, max_features=sqrt, max_depth=5, n_estimators=100 \n",
      "[CV]  min_samples_split=2, max_features=sqrt, max_depth=5, n_estimators=100, score=0.956000 -   3.5s"
     ]
    },
    {
     "name": "stderr",
     "output_type": "stream",
     "text": [
      "[Parallel(n_jobs=1)]: Done  85 jobs       | elapsed: 34.6min\n",
      "[Parallel(n_jobs=1)]: Done  98 jobs       | elapsed: 41.4min\n"
     ]
    },
    {
     "name": "stdout",
     "output_type": "stream",
     "text": [
      "\n",
      "[CV] min_samples_split=2, max_features=sqrt, max_depth=5, n_estimators=100 \n",
      "[CV]  min_samples_split=2, max_features=sqrt, max_depth=5, n_estimators=100, score=0.955374 -   3.5s\n",
      "[CV] min_samples_split=2, max_features=sqrt, max_depth=5, n_estimators=1000 \n",
      "[CV]  min_samples_split=2, max_features=sqrt, max_depth=5, n_estimators=1000, score=0.955751 -  33.5s\n",
      "[CV] min_samples_split=2, max_features=sqrt, max_depth=5, n_estimators=1000 \n",
      "[CV]  min_samples_split=2, max_features=sqrt, max_depth=5, n_estimators=1000, score=0.955950 -  34.2s\n",
      "[CV] min_samples_split=2, max_features=sqrt, max_depth=5, n_estimators=1000 \n",
      "[CV]  min_samples_split=2, max_features=sqrt, max_depth=5, n_estimators=1000, score=0.955499 -  34.6s\n",
      "[CV] min_samples_split=2, max_features=sqrt, max_depth=5, n_estimators=10000 \n",
      "[CV]  min_samples_split=2, max_features=sqrt, max_depth=5, n_estimators=10000, score=0.955751 - 5.7min\n",
      "[CV] min_samples_split=2, max_features=sqrt, max_depth=5, n_estimators=10000 \n",
      "[CV]  min_samples_split=2, max_features=sqrt, max_depth=5, n_estimators=10000, score=0.956075 - 5.6min\n",
      "[CV] min_samples_split=2, max_features=sqrt, max_depth=5, n_estimators=10000 \n",
      "[CV]  min_samples_split=2, max_features=sqrt, max_depth=5, n_estimators=10000, score=0.955549 - 5.6min\n",
      "[CV] min_samples_split=5, max_features=sqrt, max_depth=5, n_estimators=1 \n",
      "[CV]  min_samples_split=5, max_features=sqrt, max_depth=5, n_estimators=1, score=0.956076 -   0.1s\n",
      "[CV] min_samples_split=5, max_features=sqrt, max_depth=5, n_estimators=1 \n",
      "[CV]  min_samples_split=5, max_features=sqrt, max_depth=5, n_estimators=1, score=0.955275 -   0.1s\n",
      "[CV] min_samples_split=5, max_features=sqrt, max_depth=5, n_estimators=1 \n",
      "[CV]  min_samples_split=5, max_features=sqrt, max_depth=5, n_estimators=1, score=0.954724 -   0.1s\n",
      "[CV] min_samples_split=5, max_features=sqrt, max_depth=5, n_estimators=10 \n",
      "[CV]  min_samples_split=5, max_features=sqrt, max_depth=5, n_estimators=10, score=0.955626 -   0.4s\n",
      "[CV] min_samples_split=5, max_features=sqrt, max_depth=5, n_estimators=10 \n",
      "[CV]  min_samples_split=5, max_features=sqrt, max_depth=5, n_estimators=10, score=0.956150 -   0.4s\n",
      "[CV] min_samples_split=5, max_features=sqrt, max_depth=5, n_estimators=10 \n",
      "[CV]  min_samples_split=5, max_features=sqrt, max_depth=5, n_estimators=10, score=0.955399 -   0.4s\n",
      "[CV] min_samples_split=5, max_features=sqrt, max_depth=5, n_estimators=100 \n",
      "[CV]  min_samples_split=5, max_features=sqrt, max_depth=5, n_estimators=100, score=0.955976 -   3.6s\n",
      "[CV] min_samples_split=5, max_features=sqrt, max_depth=5, n_estimators=100 \n",
      "[CV]  min_samples_split=5, max_features=sqrt, max_depth=5, n_estimators=100, score=0.956050 -   3.6s\n",
      "[CV] min_samples_split=5, max_features=sqrt, max_depth=5, n_estimators=100 \n",
      "[CV]  min_samples_split=5, max_features=sqrt, max_depth=5, n_estimators=100, score=0.955399 -   3.5s\n",
      "[CV] min_samples_split=5, max_features=sqrt, max_depth=5, n_estimators=1000 \n",
      "[CV]  min_samples_split=5, max_features=sqrt, max_depth=5, n_estimators=1000, score=0.955876 -  34.8s\n",
      "[CV] min_samples_split=5, max_features=sqrt, max_depth=5, n_estimators=1000 \n",
      "[CV]  min_samples_split=5, max_features=sqrt, max_depth=5, n_estimators=1000, score=0.956200 -  34.4s\n",
      "[CV] min_samples_split=5, max_features=sqrt, max_depth=5, n_estimators=1000 \n",
      "[CV]  min_samples_split=5, max_features=sqrt, max_depth=5, n_estimators=1000, score=0.955549 -  33.9s\n",
      "[CV] min_samples_split=5, max_features=sqrt, max_depth=5, n_estimators=10000 \n",
      "[CV]  min_samples_split=5, max_features=sqrt, max_depth=5, n_estimators=10000, score=0.955876 - 5.6min\n",
      "[CV] min_samples_split=5, max_features=sqrt, max_depth=5, n_estimators=10000 \n",
      "[CV]  min_samples_split=5, max_features=sqrt, max_depth=5, n_estimators=10000, score=0.956050 - 5.8min\n",
      "[CV] min_samples_split=5, max_features=sqrt, max_depth=5, n_estimators=10000 \n",
      "[CV]  min_samples_split=5, max_features=sqrt, max_depth=5, n_estimators=10000, score=0.955499 - 6.6min\n",
      "[CV] min_samples_split=10, max_features=sqrt, max_depth=5, n_estimators=1 \n",
      "[CV]  min_samples_split=10, max_features=sqrt, max_depth=5, n_estimators=1, score=0.955501 -   0.1s\n",
      "[CV] min_samples_split=10, max_features=sqrt, max_depth=5, n_estimators=1 \n",
      "[CV]  min_samples_split=10, max_features=sqrt, max_depth=5, n_estimators=1, score=0.955575 -   0.1s\n",
      "[CV] min_samples_split=10, max_features=sqrt, max_depth=5, n_estimators=1 \n",
      "[CV]  min_samples_split=10, max_features=sqrt, max_depth=5, n_estimators=1, score=0.955199 -   0.1s\n",
      "[CV] min_samples_split=10, max_features=sqrt, max_depth=5, n_estimators=10 \n",
      "[CV]  min_samples_split=10, max_features=sqrt, max_depth=5, n_estimators=10, score=0.955351 -   0.4s\n",
      "[CV] min_samples_split=10, max_features=sqrt, max_depth=5, n_estimators=10 \n",
      "[CV]  min_samples_split=10, max_features=sqrt, max_depth=5, n_estimators=10, score=0.956200 -   0.4s\n",
      "[CV] min_samples_split=10, max_features=sqrt, max_depth=5, n_estimators=10 \n",
      "[CV]  min_samples_split=10, max_features=sqrt, max_depth=5, n_estimators=10, score=0.955674 -   0.4s\n",
      "[CV] min_samples_split=10, max_features=sqrt, max_depth=5, n_estimators=100 \n",
      "[CV]  min_samples_split=10, max_features=sqrt, max_depth=5, n_estimators=100, score=0.955676 -   3.7s\n",
      "[CV] min_samples_split=10, max_features=sqrt, max_depth=5, n_estimators=100 \n",
      "[CV]  min_samples_split=10, max_features=sqrt, max_depth=5, n_estimators=100, score=0.955925 -   3.6s"
     ]
    },
    {
     "name": "stderr",
     "output_type": "stream",
     "text": [
      "[Parallel(n_jobs=1)]: Done 113 jobs       | elapsed: 60.3min\n",
      "[Parallel(n_jobs=1)]: Done 128 jobs       | elapsed: 80.1min\n"
     ]
    },
    {
     "name": "stdout",
     "output_type": "stream",
     "text": [
      "\n",
      "[CV] min_samples_split=10, max_features=sqrt, max_depth=5, n_estimators=100 \n",
      "[CV]  min_samples_split=10, max_features=sqrt, max_depth=5, n_estimators=100, score=0.955524 -   3.7s\n",
      "[CV] min_samples_split=10, max_features=sqrt, max_depth=5, n_estimators=1000 \n",
      "[CV]  min_samples_split=10, max_features=sqrt, max_depth=5, n_estimators=1000, score=0.955851 -  35.2s\n",
      "[CV] min_samples_split=10, max_features=sqrt, max_depth=5, n_estimators=1000 \n",
      "[CV]  min_samples_split=10, max_features=sqrt, max_depth=5, n_estimators=1000, score=0.955850 -  35.4s\n",
      "[CV] min_samples_split=10, max_features=sqrt, max_depth=5, n_estimators=1000 \n",
      "[CV]  min_samples_split=10, max_features=sqrt, max_depth=5, n_estimators=1000, score=0.955499 -  35.5s\n",
      "[CV] min_samples_split=10, max_features=sqrt, max_depth=5, n_estimators=10000 \n",
      "[CV]  min_samples_split=10, max_features=sqrt, max_depth=5, n_estimators=10000, score=0.955801 - 5.9min\n",
      "[CV] min_samples_split=10, max_features=sqrt, max_depth=5, n_estimators=10000 \n",
      "[CV]  min_samples_split=10, max_features=sqrt, max_depth=5, n_estimators=10000, score=0.956025 - 5.8min\n",
      "[CV] min_samples_split=10, max_features=sqrt, max_depth=5, n_estimators=10000 \n",
      "[CV]  min_samples_split=10, max_features=sqrt, max_depth=5, n_estimators=10000, score=0.955449 - 7.0min\n",
      "[CV] min_samples_split=2, max_features=log2, max_depth=5, n_estimators=1 \n",
      "[CV]  min_samples_split=2, max_features=log2, max_depth=5, n_estimators=1, score=0.955426 -   0.1s\n",
      "[CV] min_samples_split=2, max_features=log2, max_depth=5, n_estimators=1 \n",
      "[CV]  min_samples_split=2, max_features=log2, max_depth=5, n_estimators=1, score=0.954900 -   0.1s\n",
      "[CV] min_samples_split=2, max_features=log2, max_depth=5, n_estimators=1 \n",
      "[CV]  min_samples_split=2, max_features=log2, max_depth=5, n_estimators=1, score=0.955149 -   0.2s\n",
      "[CV] min_samples_split=2, max_features=log2, max_depth=5, n_estimators=10 \n",
      "[CV]  min_samples_split=2, max_features=log2, max_depth=5, n_estimators=10, score=0.955676 -   0.7s\n",
      "[CV] min_samples_split=2, max_features=log2, max_depth=5, n_estimators=10 \n",
      "[CV]  min_samples_split=2, max_features=log2, max_depth=5, n_estimators=10, score=0.955850 -   0.7s\n",
      "[CV] min_samples_split=2, max_features=log2, max_depth=5, n_estimators=10 \n",
      "[CV]  min_samples_split=2, max_features=log2, max_depth=5, n_estimators=10, score=0.955499 -   0.8s\n",
      "[CV] min_samples_split=2, max_features=log2, max_depth=5, n_estimators=100 \n",
      "[CV]  min_samples_split=2, max_features=log2, max_depth=5, n_estimators=100, score=0.955776 -   5.6s\n",
      "[CV] min_samples_split=2, max_features=log2, max_depth=5, n_estimators=100 \n",
      "[CV]  min_samples_split=2, max_features=log2, max_depth=5, n_estimators=100, score=0.955925 -   3.8s\n",
      "[CV] min_samples_split=2, max_features=log2, max_depth=5, n_estimators=100 \n",
      "[CV]  min_samples_split=2, max_features=log2, max_depth=5, n_estimators=100, score=0.955499 -   3.8s\n",
      "[CV] min_samples_split=2, max_features=log2, max_depth=5, n_estimators=1000 \n",
      "[CV]  min_samples_split=2, max_features=log2, max_depth=5, n_estimators=1000, score=0.955726 -  47.9s\n",
      "[CV] min_samples_split=2, max_features=log2, max_depth=5, n_estimators=1000 \n",
      "[CV]  min_samples_split=2, max_features=log2, max_depth=5, n_estimators=1000, score=0.955950 -  48.4s\n",
      "[CV] min_samples_split=2, max_features=log2, max_depth=5, n_estimators=1000 \n",
      "[CV]  min_samples_split=2, max_features=log2, max_depth=5, n_estimators=1000, score=0.955499 -  44.8s\n",
      "[CV] min_samples_split=2, max_features=log2, max_depth=5, n_estimators=10000 \n",
      "[CV]  min_samples_split=2, max_features=log2, max_depth=5, n_estimators=10000, score=0.955876 - 7.3min\n",
      "[CV] min_samples_split=2, max_features=log2, max_depth=5, n_estimators=10000 \n",
      "[CV]  min_samples_split=2, max_features=log2, max_depth=5, n_estimators=10000, score=0.956000 - 7.5min\n",
      "[CV] min_samples_split=2, max_features=log2, max_depth=5, n_estimators=10000 \n",
      "[CV]  min_samples_split=2, max_features=log2, max_depth=5, n_estimators=10000, score=0.955499 - 9.0min\n",
      "[CV] min_samples_split=5, max_features=log2, max_depth=5, n_estimators=1 \n",
      "[CV]  min_samples_split=5, max_features=log2, max_depth=5, n_estimators=1, score=0.956126 -   0.1s\n",
      "[CV] min_samples_split=5, max_features=log2, max_depth=5, n_estimators=1 \n",
      "[CV]  min_samples_split=5, max_features=log2, max_depth=5, n_estimators=1, score=0.955575 -   0.1s\n",
      "[CV] min_samples_split=5, max_features=log2, max_depth=5, n_estimators=1 \n",
      "[CV]  min_samples_split=5, max_features=log2, max_depth=5, n_estimators=1, score=0.955074 -   0.1s\n",
      "[CV] min_samples_split=5, max_features=log2, max_depth=5, n_estimators=10 \n",
      "[CV]  min_samples_split=5, max_features=log2, max_depth=5, n_estimators=10, score=0.956151 -   0.5s\n",
      "[CV] min_samples_split=5, max_features=log2, max_depth=5, n_estimators=10 \n",
      "[CV]  min_samples_split=5, max_features=log2, max_depth=5, n_estimators=10, score=0.956150 -   0.5s\n",
      "[CV] min_samples_split=5, max_features=log2, max_depth=5, n_estimators=10 \n",
      "[CV]  min_samples_split=5, max_features=log2, max_depth=5, n_estimators=10, score=0.954924 -   0.5s\n",
      "[CV] min_samples_split=5, max_features=log2, max_depth=5, n_estimators=100 \n",
      "[CV]  min_samples_split=5, max_features=log2, max_depth=5, n_estimators=100, score=0.955876 -   4.5s\n",
      "[CV] min_samples_split=5, max_features=log2, max_depth=5, n_estimators=100 \n",
      "[CV]  min_samples_split=5, max_features=log2, max_depth=5, n_estimators=100, score=0.956000 -   4.3s\n",
      "[CV] min_samples_split=5, max_features=log2, max_depth=5, n_estimators=100 \n",
      "[CV]  min_samples_split=5, max_features=log2, max_depth=5, n_estimators=100, score=0.955499 -   4.7s\n",
      "[CV] min_samples_split=5, max_features=log2, max_depth=5, n_estimators=1000 \n",
      "[CV]  min_samples_split=5, max_features=log2, max_depth=5, n_estimators=1000, score=0.955876 -  40.5s\n",
      "[CV] min_samples_split=5, max_features=log2, max_depth=5, n_estimators=1000 \n",
      "[CV]  min_samples_split=5, max_features=log2, max_depth=5, n_estimators=1000, score=0.956000 -  43.2s\n",
      "[CV] min_samples_split=5, max_features=log2, max_depth=5, n_estimators=1000 \n",
      "[CV]  min_samples_split=5, max_features=log2, max_depth=5, n_estimators=1000, score=0.955574 -  57.6s"
     ]
    },
    {
     "name": "stderr",
     "output_type": "stream",
     "text": [
      "[Parallel(n_jobs=1)]: Done 145 jobs       | elapsed: 101.6min\n",
      "[Parallel(n_jobs=1)]: Done 162 jobs       | elapsed: 129.6min\n"
     ]
    },
    {
     "name": "stdout",
     "output_type": "stream",
     "text": [
      "\n",
      "[CV] min_samples_split=5, max_features=log2, max_depth=5, n_estimators=10000 \n"
     ]
    },
    {
     "ename": "KeyboardInterrupt",
     "evalue": "",
     "output_type": "error",
     "traceback": [
      "\u001b[1;31m---------------------------------------------------------------------------\u001b[0m",
      "\u001b[1;31mKeyboardInterrupt\u001b[0m                         Traceback (most recent call last)",
      "\u001b[1;32m/home/dmunger/CAPP30254/HW3/hw3.py\u001b[0m in \u001b[0;36m<module>\u001b[1;34m()\u001b[0m\n",
      "\u001b[1;32m/home/dmunger/CAPP30254/HW3/hw3.py\u001b[0m in \u001b[0;36mmagic_loop\u001b[1;34m(models_framework, grid_framework, built_models, X_train, X_test, y_train, y_test)\u001b[0m\n\u001b[0;32m    118\u001b[0m \u001b[1;33m\u001b[0m\u001b[0m\n\u001b[0;32m    119\u001b[0m         \u001b[0mgrid\u001b[0m \u001b[1;33m=\u001b[0m \u001b[0mGridSearchCV\u001b[0m\u001b[1;33m(\u001b[0m\u001b[0mestimator\u001b[0m \u001b[1;33m=\u001b[0m \u001b[0mclf\u001b[0m\u001b[1;33m,\u001b[0m \u001b[0mparam_grid\u001b[0m \u001b[1;33m=\u001b[0m \u001b[0mparameters\u001b[0m\u001b[1;33m,\u001b[0m \u001b[0mverbose\u001b[0m \u001b[1;33m=\u001b[0m \u001b[1;36m10\u001b[0m\u001b[1;33m)\u001b[0m\u001b[1;33m\u001b[0m\u001b[0m\n\u001b[1;32m--> 120\u001b[1;33m         \u001b[0mgrid\u001b[0m\u001b[1;33m.\u001b[0m\u001b[0mfit\u001b[0m\u001b[1;33m(\u001b[0m\u001b[0mX_train\u001b[0m\u001b[1;33m,\u001b[0m \u001b[0my_train\u001b[0m\u001b[1;33m)\u001b[0m\u001b[1;33m\u001b[0m\u001b[0m\n\u001b[0m\u001b[0;32m    121\u001b[0m \u001b[1;33m\u001b[0m\u001b[0m\n\u001b[0;32m    122\u001b[0m         \u001b[1;31m## Store model attributes\u001b[0m\u001b[1;33m\u001b[0m\u001b[1;33m\u001b[0m\u001b[0m\n",
      "\u001b[1;32m/usr/local/lib/python3.4/dist-packages/sklearn/grid_search.py\u001b[0m in \u001b[0;36mfit\u001b[1;34m(self, X, y)\u001b[0m\n\u001b[0;32m    730\u001b[0m \u001b[1;33m\u001b[0m\u001b[0m\n\u001b[0;32m    731\u001b[0m         \"\"\"\n\u001b[1;32m--> 732\u001b[1;33m         \u001b[1;32mreturn\u001b[0m \u001b[0mself\u001b[0m\u001b[1;33m.\u001b[0m\u001b[0m_fit\u001b[0m\u001b[1;33m(\u001b[0m\u001b[0mX\u001b[0m\u001b[1;33m,\u001b[0m \u001b[0my\u001b[0m\u001b[1;33m,\u001b[0m \u001b[0mParameterGrid\u001b[0m\u001b[1;33m(\u001b[0m\u001b[0mself\u001b[0m\u001b[1;33m.\u001b[0m\u001b[0mparam_grid\u001b[0m\u001b[1;33m)\u001b[0m\u001b[1;33m)\u001b[0m\u001b[1;33m\u001b[0m\u001b[0m\n\u001b[0m\u001b[0;32m    733\u001b[0m \u001b[1;33m\u001b[0m\u001b[0m\n\u001b[0;32m    734\u001b[0m \u001b[1;33m\u001b[0m\u001b[0m\n",
      "\u001b[1;32m/usr/local/lib/python3.4/dist-packages/sklearn/grid_search.py\u001b[0m in \u001b[0;36m_fit\u001b[1;34m(self, X, y, parameter_iterable)\u001b[0m\n\u001b[0;32m    503\u001b[0m                                     \u001b[0mself\u001b[0m\u001b[1;33m.\u001b[0m\u001b[0mfit_params\u001b[0m\u001b[1;33m,\u001b[0m \u001b[0mreturn_parameters\u001b[0m\u001b[1;33m=\u001b[0m\u001b[1;32mTrue\u001b[0m\u001b[1;33m,\u001b[0m\u001b[1;33m\u001b[0m\u001b[0m\n\u001b[0;32m    504\u001b[0m                                     error_score=self.error_score)\n\u001b[1;32m--> 505\u001b[1;33m                 \u001b[1;32mfor\u001b[0m \u001b[0mparameters\u001b[0m \u001b[1;32min\u001b[0m \u001b[0mparameter_iterable\u001b[0m\u001b[1;33m\u001b[0m\u001b[0m\n\u001b[0m\u001b[0;32m    506\u001b[0m                 for train, test in cv)\n\u001b[0;32m    507\u001b[0m \u001b[1;33m\u001b[0m\u001b[0m\n",
      "\u001b[1;32m/usr/local/lib/python3.4/dist-packages/sklearn/externals/joblib/parallel.py\u001b[0m in \u001b[0;36m__call__\u001b[1;34m(self, iterable)\u001b[0m\n\u001b[0;32m    657\u001b[0m             \u001b[0mself\u001b[0m\u001b[1;33m.\u001b[0m\u001b[0m_iterating\u001b[0m \u001b[1;33m=\u001b[0m \u001b[1;32mTrue\u001b[0m\u001b[1;33m\u001b[0m\u001b[0m\n\u001b[0;32m    658\u001b[0m             \u001b[1;32mfor\u001b[0m \u001b[0mfunction\u001b[0m\u001b[1;33m,\u001b[0m \u001b[0margs\u001b[0m\u001b[1;33m,\u001b[0m \u001b[0mkwargs\u001b[0m \u001b[1;32min\u001b[0m \u001b[0miterable\u001b[0m\u001b[1;33m:\u001b[0m\u001b[1;33m\u001b[0m\u001b[0m\n\u001b[1;32m--> 659\u001b[1;33m                 \u001b[0mself\u001b[0m\u001b[1;33m.\u001b[0m\u001b[0mdispatch\u001b[0m\u001b[1;33m(\u001b[0m\u001b[0mfunction\u001b[0m\u001b[1;33m,\u001b[0m \u001b[0margs\u001b[0m\u001b[1;33m,\u001b[0m \u001b[0mkwargs\u001b[0m\u001b[1;33m)\u001b[0m\u001b[1;33m\u001b[0m\u001b[0m\n\u001b[0m\u001b[0;32m    660\u001b[0m \u001b[1;33m\u001b[0m\u001b[0m\n\u001b[0;32m    661\u001b[0m             \u001b[1;32mif\u001b[0m \u001b[0mpre_dispatch\u001b[0m \u001b[1;33m==\u001b[0m \u001b[1;34m\"all\"\u001b[0m \u001b[1;32mor\u001b[0m \u001b[0mn_jobs\u001b[0m \u001b[1;33m==\u001b[0m \u001b[1;36m1\u001b[0m\u001b[1;33m:\u001b[0m\u001b[1;33m\u001b[0m\u001b[0m\n",
      "\u001b[1;32m/usr/local/lib/python3.4/dist-packages/sklearn/externals/joblib/parallel.py\u001b[0m in \u001b[0;36mdispatch\u001b[1;34m(self, func, args, kwargs)\u001b[0m\n\u001b[0;32m    404\u001b[0m         \"\"\"\n\u001b[0;32m    405\u001b[0m         \u001b[1;32mif\u001b[0m \u001b[0mself\u001b[0m\u001b[1;33m.\u001b[0m\u001b[0m_pool\u001b[0m \u001b[1;32mis\u001b[0m \u001b[1;32mNone\u001b[0m\u001b[1;33m:\u001b[0m\u001b[1;33m\u001b[0m\u001b[0m\n\u001b[1;32m--> 406\u001b[1;33m             \u001b[0mjob\u001b[0m \u001b[1;33m=\u001b[0m \u001b[0mImmediateApply\u001b[0m\u001b[1;33m(\u001b[0m\u001b[0mfunc\u001b[0m\u001b[1;33m,\u001b[0m \u001b[0margs\u001b[0m\u001b[1;33m,\u001b[0m \u001b[0mkwargs\u001b[0m\u001b[1;33m)\u001b[0m\u001b[1;33m\u001b[0m\u001b[0m\n\u001b[0m\u001b[0;32m    407\u001b[0m             \u001b[0mindex\u001b[0m \u001b[1;33m=\u001b[0m \u001b[0mlen\u001b[0m\u001b[1;33m(\u001b[0m\u001b[0mself\u001b[0m\u001b[1;33m.\u001b[0m\u001b[0m_jobs\u001b[0m\u001b[1;33m)\u001b[0m\u001b[1;33m\u001b[0m\u001b[0m\n\u001b[0;32m    408\u001b[0m             \u001b[1;32mif\u001b[0m \u001b[1;32mnot\u001b[0m \u001b[0m_verbosity_filter\u001b[0m\u001b[1;33m(\u001b[0m\u001b[0mindex\u001b[0m\u001b[1;33m,\u001b[0m \u001b[0mself\u001b[0m\u001b[1;33m.\u001b[0m\u001b[0mverbose\u001b[0m\u001b[1;33m)\u001b[0m\u001b[1;33m:\u001b[0m\u001b[1;33m\u001b[0m\u001b[0m\n",
      "\u001b[1;32m/usr/local/lib/python3.4/dist-packages/sklearn/externals/joblib/parallel.py\u001b[0m in \u001b[0;36m__init__\u001b[1;34m(self, func, args, kwargs)\u001b[0m\n\u001b[0;32m    138\u001b[0m         \u001b[1;31m# Don't delay the application, to avoid keeping the input\u001b[0m\u001b[1;33m\u001b[0m\u001b[1;33m\u001b[0m\u001b[0m\n\u001b[0;32m    139\u001b[0m         \u001b[1;31m# arguments in memory\u001b[0m\u001b[1;33m\u001b[0m\u001b[1;33m\u001b[0m\u001b[0m\n\u001b[1;32m--> 140\u001b[1;33m         \u001b[0mself\u001b[0m\u001b[1;33m.\u001b[0m\u001b[0mresults\u001b[0m \u001b[1;33m=\u001b[0m \u001b[0mfunc\u001b[0m\u001b[1;33m(\u001b[0m\u001b[1;33m*\u001b[0m\u001b[0margs\u001b[0m\u001b[1;33m,\u001b[0m \u001b[1;33m**\u001b[0m\u001b[0mkwargs\u001b[0m\u001b[1;33m)\u001b[0m\u001b[1;33m\u001b[0m\u001b[0m\n\u001b[0m\u001b[0;32m    141\u001b[0m \u001b[1;33m\u001b[0m\u001b[0m\n\u001b[0;32m    142\u001b[0m     \u001b[1;32mdef\u001b[0m \u001b[0mget\u001b[0m\u001b[1;33m(\u001b[0m\u001b[0mself\u001b[0m\u001b[1;33m)\u001b[0m\u001b[1;33m:\u001b[0m\u001b[1;33m\u001b[0m\u001b[0m\n",
      "\u001b[1;32m/usr/local/lib/python3.4/dist-packages/sklearn/cross_validation.py\u001b[0m in \u001b[0;36m_fit_and_score\u001b[1;34m(estimator, X, y, scorer, train, test, verbose, parameters, fit_params, return_train_score, return_parameters, error_score)\u001b[0m\n\u001b[0;32m   1457\u001b[0m             \u001b[0mestimator\u001b[0m\u001b[1;33m.\u001b[0m\u001b[0mfit\u001b[0m\u001b[1;33m(\u001b[0m\u001b[0mX_train\u001b[0m\u001b[1;33m,\u001b[0m \u001b[1;33m**\u001b[0m\u001b[0mfit_params\u001b[0m\u001b[1;33m)\u001b[0m\u001b[1;33m\u001b[0m\u001b[0m\n\u001b[0;32m   1458\u001b[0m         \u001b[1;32melse\u001b[0m\u001b[1;33m:\u001b[0m\u001b[1;33m\u001b[0m\u001b[0m\n\u001b[1;32m-> 1459\u001b[1;33m             \u001b[0mestimator\u001b[0m\u001b[1;33m.\u001b[0m\u001b[0mfit\u001b[0m\u001b[1;33m(\u001b[0m\u001b[0mX_train\u001b[0m\u001b[1;33m,\u001b[0m \u001b[0my_train\u001b[0m\u001b[1;33m,\u001b[0m \u001b[1;33m**\u001b[0m\u001b[0mfit_params\u001b[0m\u001b[1;33m)\u001b[0m\u001b[1;33m\u001b[0m\u001b[0m\n\u001b[0m\u001b[0;32m   1460\u001b[0m \u001b[1;33m\u001b[0m\u001b[0m\n\u001b[0;32m   1461\u001b[0m     \u001b[1;32mexcept\u001b[0m \u001b[0mException\u001b[0m \u001b[1;32mas\u001b[0m \u001b[0me\u001b[0m\u001b[1;33m:\u001b[0m\u001b[1;33m\u001b[0m\u001b[0m\n",
      "\u001b[1;32m/usr/local/lib/python3.4/dist-packages/sklearn/ensemble/forest.py\u001b[0m in \u001b[0;36mfit\u001b[1;34m(self, X, y, sample_weight)\u001b[0m\n\u001b[0;32m    271\u001b[0m                     \u001b[0mt\u001b[0m\u001b[1;33m,\u001b[0m \u001b[0mself\u001b[0m\u001b[1;33m,\u001b[0m \u001b[0mX\u001b[0m\u001b[1;33m,\u001b[0m \u001b[0my\u001b[0m\u001b[1;33m,\u001b[0m \u001b[0msample_weight\u001b[0m\u001b[1;33m,\u001b[0m \u001b[0mi\u001b[0m\u001b[1;33m,\u001b[0m \u001b[0mlen\u001b[0m\u001b[1;33m(\u001b[0m\u001b[0mtrees\u001b[0m\u001b[1;33m)\u001b[0m\u001b[1;33m,\u001b[0m\u001b[1;33m\u001b[0m\u001b[0m\n\u001b[0;32m    272\u001b[0m                     verbose=self.verbose, class_weight=self.class_weight)\n\u001b[1;32m--> 273\u001b[1;33m                 for i, t in enumerate(trees))\n\u001b[0m\u001b[0;32m    274\u001b[0m \u001b[1;33m\u001b[0m\u001b[0m\n\u001b[0;32m    275\u001b[0m             \u001b[1;31m# Collect newly grown trees\u001b[0m\u001b[1;33m\u001b[0m\u001b[1;33m\u001b[0m\u001b[0m\n",
      "\u001b[1;32m/usr/local/lib/python3.4/dist-packages/sklearn/externals/joblib/parallel.py\u001b[0m in \u001b[0;36m__call__\u001b[1;34m(self, iterable)\u001b[0m\n\u001b[0;32m    657\u001b[0m             \u001b[0mself\u001b[0m\u001b[1;33m.\u001b[0m\u001b[0m_iterating\u001b[0m \u001b[1;33m=\u001b[0m \u001b[1;32mTrue\u001b[0m\u001b[1;33m\u001b[0m\u001b[0m\n\u001b[0;32m    658\u001b[0m             \u001b[1;32mfor\u001b[0m \u001b[0mfunction\u001b[0m\u001b[1;33m,\u001b[0m \u001b[0margs\u001b[0m\u001b[1;33m,\u001b[0m \u001b[0mkwargs\u001b[0m \u001b[1;32min\u001b[0m \u001b[0miterable\u001b[0m\u001b[1;33m:\u001b[0m\u001b[1;33m\u001b[0m\u001b[0m\n\u001b[1;32m--> 659\u001b[1;33m                 \u001b[0mself\u001b[0m\u001b[1;33m.\u001b[0m\u001b[0mdispatch\u001b[0m\u001b[1;33m(\u001b[0m\u001b[0mfunction\u001b[0m\u001b[1;33m,\u001b[0m \u001b[0margs\u001b[0m\u001b[1;33m,\u001b[0m \u001b[0mkwargs\u001b[0m\u001b[1;33m)\u001b[0m\u001b[1;33m\u001b[0m\u001b[0m\n\u001b[0m\u001b[0;32m    660\u001b[0m \u001b[1;33m\u001b[0m\u001b[0m\n\u001b[0;32m    661\u001b[0m             \u001b[1;32mif\u001b[0m \u001b[0mpre_dispatch\u001b[0m \u001b[1;33m==\u001b[0m \u001b[1;34m\"all\"\u001b[0m \u001b[1;32mor\u001b[0m \u001b[0mn_jobs\u001b[0m \u001b[1;33m==\u001b[0m \u001b[1;36m1\u001b[0m\u001b[1;33m:\u001b[0m\u001b[1;33m\u001b[0m\u001b[0m\n",
      "\u001b[1;32m/usr/local/lib/python3.4/dist-packages/sklearn/externals/joblib/parallel.py\u001b[0m in \u001b[0;36mdispatch\u001b[1;34m(self, func, args, kwargs)\u001b[0m\n\u001b[0;32m    404\u001b[0m         \"\"\"\n\u001b[0;32m    405\u001b[0m         \u001b[1;32mif\u001b[0m \u001b[0mself\u001b[0m\u001b[1;33m.\u001b[0m\u001b[0m_pool\u001b[0m \u001b[1;32mis\u001b[0m \u001b[1;32mNone\u001b[0m\u001b[1;33m:\u001b[0m\u001b[1;33m\u001b[0m\u001b[0m\n\u001b[1;32m--> 406\u001b[1;33m             \u001b[0mjob\u001b[0m \u001b[1;33m=\u001b[0m \u001b[0mImmediateApply\u001b[0m\u001b[1;33m(\u001b[0m\u001b[0mfunc\u001b[0m\u001b[1;33m,\u001b[0m \u001b[0margs\u001b[0m\u001b[1;33m,\u001b[0m \u001b[0mkwargs\u001b[0m\u001b[1;33m)\u001b[0m\u001b[1;33m\u001b[0m\u001b[0m\n\u001b[0m\u001b[0;32m    407\u001b[0m             \u001b[0mindex\u001b[0m \u001b[1;33m=\u001b[0m \u001b[0mlen\u001b[0m\u001b[1;33m(\u001b[0m\u001b[0mself\u001b[0m\u001b[1;33m.\u001b[0m\u001b[0m_jobs\u001b[0m\u001b[1;33m)\u001b[0m\u001b[1;33m\u001b[0m\u001b[0m\n\u001b[0;32m    408\u001b[0m             \u001b[1;32mif\u001b[0m \u001b[1;32mnot\u001b[0m \u001b[0m_verbosity_filter\u001b[0m\u001b[1;33m(\u001b[0m\u001b[0mindex\u001b[0m\u001b[1;33m,\u001b[0m \u001b[0mself\u001b[0m\u001b[1;33m.\u001b[0m\u001b[0mverbose\u001b[0m\u001b[1;33m)\u001b[0m\u001b[1;33m:\u001b[0m\u001b[1;33m\u001b[0m\u001b[0m\n",
      "\u001b[1;32m/usr/local/lib/python3.4/dist-packages/sklearn/externals/joblib/parallel.py\u001b[0m in \u001b[0;36m__init__\u001b[1;34m(self, func, args, kwargs)\u001b[0m\n\u001b[0;32m    138\u001b[0m         \u001b[1;31m# Don't delay the application, to avoid keeping the input\u001b[0m\u001b[1;33m\u001b[0m\u001b[1;33m\u001b[0m\u001b[0m\n\u001b[0;32m    139\u001b[0m         \u001b[1;31m# arguments in memory\u001b[0m\u001b[1;33m\u001b[0m\u001b[1;33m\u001b[0m\u001b[0m\n\u001b[1;32m--> 140\u001b[1;33m         \u001b[0mself\u001b[0m\u001b[1;33m.\u001b[0m\u001b[0mresults\u001b[0m \u001b[1;33m=\u001b[0m \u001b[0mfunc\u001b[0m\u001b[1;33m(\u001b[0m\u001b[1;33m*\u001b[0m\u001b[0margs\u001b[0m\u001b[1;33m,\u001b[0m \u001b[1;33m**\u001b[0m\u001b[0mkwargs\u001b[0m\u001b[1;33m)\u001b[0m\u001b[1;33m\u001b[0m\u001b[0m\n\u001b[0m\u001b[0;32m    141\u001b[0m \u001b[1;33m\u001b[0m\u001b[0m\n\u001b[0;32m    142\u001b[0m     \u001b[1;32mdef\u001b[0m \u001b[0mget\u001b[0m\u001b[1;33m(\u001b[0m\u001b[0mself\u001b[0m\u001b[1;33m)\u001b[0m\u001b[1;33m:\u001b[0m\u001b[1;33m\u001b[0m\u001b[0m\n",
      "\u001b[1;32m/usr/local/lib/python3.4/dist-packages/sklearn/ensemble/forest.py\u001b[0m in \u001b[0;36m_parallel_build_trees\u001b[1;34m(tree, forest, X, y, sample_weight, tree_idx, n_trees, verbose, class_weight)\u001b[0m\n\u001b[0;32m     92\u001b[0m             \u001b[0mcurr_sample_weight\u001b[0m \u001b[1;33m*=\u001b[0m \u001b[0mcompute_sample_weight\u001b[0m\u001b[1;33m(\u001b[0m\u001b[1;34m'auto'\u001b[0m\u001b[1;33m,\u001b[0m \u001b[0my\u001b[0m\u001b[1;33m,\u001b[0m \u001b[0mindices\u001b[0m\u001b[1;33m)\u001b[0m\u001b[1;33m\u001b[0m\u001b[0m\n\u001b[0;32m     93\u001b[0m \u001b[1;33m\u001b[0m\u001b[0m\n\u001b[1;32m---> 94\u001b[1;33m         \u001b[0mtree\u001b[0m\u001b[1;33m.\u001b[0m\u001b[0mfit\u001b[0m\u001b[1;33m(\u001b[0m\u001b[0mX\u001b[0m\u001b[1;33m,\u001b[0m \u001b[0my\u001b[0m\u001b[1;33m,\u001b[0m \u001b[0msample_weight\u001b[0m\u001b[1;33m=\u001b[0m\u001b[0mcurr_sample_weight\u001b[0m\u001b[1;33m,\u001b[0m \u001b[0mcheck_input\u001b[0m\u001b[1;33m=\u001b[0m\u001b[1;32mFalse\u001b[0m\u001b[1;33m)\u001b[0m\u001b[1;33m\u001b[0m\u001b[0m\n\u001b[0m\u001b[0;32m     95\u001b[0m \u001b[1;33m\u001b[0m\u001b[0m\n\u001b[0;32m     96\u001b[0m         \u001b[0mtree\u001b[0m\u001b[1;33m.\u001b[0m\u001b[0mindices_\u001b[0m \u001b[1;33m=\u001b[0m \u001b[0msample_counts\u001b[0m \u001b[1;33m>\u001b[0m \u001b[1;36m0.\u001b[0m\u001b[1;33m\u001b[0m\u001b[0m\n",
      "\u001b[1;32m/usr/local/lib/python3.4/dist-packages/sklearn/tree/tree.py\u001b[0m in \u001b[0;36mfit\u001b[1;34m(self, X, y, sample_weight, check_input)\u001b[0m\n\u001b[0;32m    302\u001b[0m                                            max_leaf_nodes)\n\u001b[0;32m    303\u001b[0m \u001b[1;33m\u001b[0m\u001b[0m\n\u001b[1;32m--> 304\u001b[1;33m         \u001b[0mbuilder\u001b[0m\u001b[1;33m.\u001b[0m\u001b[0mbuild\u001b[0m\u001b[1;33m(\u001b[0m\u001b[0mself\u001b[0m\u001b[1;33m.\u001b[0m\u001b[0mtree_\u001b[0m\u001b[1;33m,\u001b[0m \u001b[0mX\u001b[0m\u001b[1;33m,\u001b[0m \u001b[0my\u001b[0m\u001b[1;33m,\u001b[0m \u001b[0msample_weight\u001b[0m\u001b[1;33m)\u001b[0m\u001b[1;33m\u001b[0m\u001b[0m\n\u001b[0m\u001b[0;32m    305\u001b[0m \u001b[1;33m\u001b[0m\u001b[0m\n\u001b[0;32m    306\u001b[0m         \u001b[1;32mif\u001b[0m \u001b[0mself\u001b[0m\u001b[1;33m.\u001b[0m\u001b[0mn_outputs_\u001b[0m \u001b[1;33m==\u001b[0m \u001b[1;36m1\u001b[0m\u001b[1;33m:\u001b[0m\u001b[1;33m\u001b[0m\u001b[0m\n",
      "\u001b[1;31mKeyboardInterrupt\u001b[0m: "
     ]
    }
   ],
   "source": [
    "%matplotlib inline\n",
    "%run hw3.py"
   ]
  },
  {
   "cell_type": "code",
   "execution_count": null,
   "metadata": {
    "collapsed": true
   },
   "outputs": [],
   "source": [
    "value_dict = impute_values(training_data)"
   ]
  },
  {
   "cell_type": "code",
   "execution_count": 63,
   "metadata": {
    "collapsed": false,
    "scrolled": true
   },
   "outputs": [
    {
     "data": {
      "text/plain": [
       "{}"
      ]
     },
     "execution_count": 63,
     "metadata": {},
     "output_type": "execute_result"
    }
   ],
   "source": [
    "value_dict"
   ]
  },
  {
   "cell_type": "code",
   "execution_count": 4,
   "metadata": {
    "collapsed": false
   },
   "outputs": [],
   "source": [
    "discretize_ratios(training_data, [\"RevolvingUtilizationOfUnsecuredLines\", \"DebtRatio\"])\n",
    "binary_dummy(training_data, \"age\")\n",
    "log_values(training_data, \"MonthlyIncome\")\n",
    "standardize_values(training_data, [\"NumberOfTime30-59DaysPastDueNotWorse\", \"MonthlyIncome\", \"NumberOfOpenCreditLinesAndLoans\", \"NumberOfTimes90DaysLate\", \"NumberRealEstateLoansOrLines\", \"NumberOfTime60-89DaysPastDueNotWorse\", \"NumberOfDependents\"])"
   ]
  },
  {
   "cell_type": "code",
   "execution_count": 5,
   "metadata": {
    "collapsed": false
   },
   "outputs": [
    {
     "data": {
      "text/plain": [
       "count    1.500000e+05\n",
       "mean    -9.692987e-17\n",
       "std      1.000000e+00\n",
       "min     -1.894409e+00\n",
       "25%     -1.695839e+00\n",
       "50%      5.025445e-01\n",
       "75%      6.524295e-01\n",
       "max      2.378944e+00\n",
       "Name: MonthlyIncome, dtype: float64"
      ]
     },
     "execution_count": 5,
     "metadata": {},
     "output_type": "execute_result"
    }
   ],
   "source": [
    "training_data[\"MonthlyIncome\"].describe()"
   ]
  },
  {
   "cell_type": "code",
   "execution_count": 6,
   "metadata": {
    "collapsed": false
   },
   "outputs": [
    {
     "data": {
      "text/plain": [
       "SeriousDlqin2yrs                        101503\n",
       "RevolvingUtilizationOfUnsecuredLines         0\n",
       "age                                          0\n",
       "NumberOfTime30-59DaysPastDueNotWorse         0\n",
       "DebtRatio                                    0\n",
       "MonthlyIncome                            20103\n",
       "NumberOfOpenCreditLinesAndLoans              0\n",
       "NumberOfTimes90DaysLate                      0\n",
       "NumberRealEstateLoansOrLines                 0\n",
       "NumberOfTime60-89DaysPastDueNotWorse         0\n",
       "NumberOfDependents                        2626\n",
       "dtype: int64"
      ]
     },
     "execution_count": 6,
     "metadata": {},
     "output_type": "execute_result"
    }
   ],
   "source": [
    "scoring_data = read_data(scoring_filename)\n",
    "scoring_data.isnull().sum()"
   ]
  },
  {
   "cell_type": "code",
   "execution_count": 7,
   "metadata": {
    "collapsed": false
   },
   "outputs": [
    {
     "data": {
      "text/plain": [
       "{'MonthlyIncome': 6670.2212373928442,\n",
       " 'NumberOfDependents': 0.75722226786056568}"
      ]
     },
     "execution_count": 7,
     "metadata": {},
     "output_type": "execute_result"
    }
   ],
   "source": [
    "value_dict"
   ]
  },
  {
   "cell_type": "code",
   "execution_count": 8,
   "metadata": {
    "collapsed": false
   },
   "outputs": [
    {
     "data": {
      "text/plain": [
       "SeriousDlqin2yrs                        101503\n",
       "RevolvingUtilizationOfUnsecuredLines         0\n",
       "age                                          0\n",
       "NumberOfTime30-59DaysPastDueNotWorse         0\n",
       "DebtRatio                                    0\n",
       "MonthlyIncome                                0\n",
       "NumberOfOpenCreditLinesAndLoans              0\n",
       "NumberOfTimes90DaysLate                      0\n",
       "NumberRealEstateLoansOrLines                 0\n",
       "NumberOfTime60-89DaysPastDueNotWorse         0\n",
       "NumberOfDependents                           0\n",
       "dtype: int64"
      ]
     },
     "execution_count": 8,
     "metadata": {},
     "output_type": "execute_result"
    }
   ],
   "source": [
    "scoring_data.fillna(value_dict, inplace = True)\n",
    "scoring_data.isnull().sum()"
   ]
  },
  {
   "cell_type": "code",
   "execution_count": 9,
   "metadata": {
    "collapsed": true
   },
   "outputs": [],
   "source": [
    "models_framework = [(\"Logit\", logistic_regression), (\"K-NN\", k_nearest_neighbor), (\"SVC\", linear_svc)]\n",
    "\n",
    "y = training_data[training_data.columns[dependent_column]]\n",
    "X = training_data.drop(training_data.columns[dependent_column], axis = 1)\n",
    "built_models = [model[1](y, X) for model in models_framework]"
   ]
  },
  {
   "cell_type": "code",
   "execution_count": 67,
   "metadata": {
    "collapsed": false
   },
   "outputs": [
    {
     "data": {
      "text/plain": [
       "[LogisticRegression(C=1.0, class_weight=None, dual=False, fit_intercept=True,\n",
       "           intercept_scaling=1, max_iter=100, multi_class='ovr',\n",
       "           penalty='l2', random_state=None, solver='liblinear', tol=0.0001,\n",
       "           verbose=0),\n",
       " KNeighborsClassifier(algorithm='auto', leaf_size=30, metric='minkowski',\n",
       "            metric_params=None, n_neighbors=5, p=2, weights='uniform'),\n",
       " LinearSVC(C=1.0, class_weight=None, dual=True, fit_intercept=True,\n",
       "      intercept_scaling=1, loss='squared_hinge', max_iter=1000,\n",
       "      multi_class='ovr', penalty='l2', random_state=None, tol=0.0001,\n",
       "      verbose=0)]"
      ]
     },
     "execution_count": 67,
     "metadata": {},
     "output_type": "execute_result"
    }
   ],
   "source": [
    "built_models"
   ]
  },
  {
   "cell_type": "code",
   "execution_count": 14,
   "metadata": {
    "collapsed": false
   },
   "outputs": [
    {
     "data": {
      "text/plain": [
       "0.95534666666666668"
      ]
     },
     "execution_count": 14,
     "metadata": {},
     "output_type": "execute_result"
    }
   ],
   "source": [
    "test_accuracy(built_models[0], y, X)"
   ]
  },
  {
   "cell_type": "code",
   "execution_count": 15,
   "metadata": {
    "collapsed": false
   },
   "outputs": [
    {
     "data": {
      "text/plain": [
       "0.95870666666666671"
      ]
     },
     "execution_count": 15,
     "metadata": {},
     "output_type": "execute_result"
    }
   ],
   "source": [
    "test_accuracy(built_models[1], y, X)"
   ]
  },
  {
   "cell_type": "code",
   "execution_count": 16,
   "metadata": {
    "collapsed": false
   },
   "outputs": [
    {
     "data": {
      "text/plain": [
       "0.95486666666666664"
      ]
     },
     "execution_count": 16,
     "metadata": {},
     "output_type": "execute_result"
    }
   ],
   "source": [
    "test_accuracy(built_models[2], y, X)"
   ]
  },
  {
   "cell_type": "code",
   "execution_count": 68,
   "metadata": {
    "collapsed": true
   },
   "outputs": [],
   "source": [
    "scoring_data = read_data(scoring_filename)"
   ]
  },
  {
   "cell_type": "code",
   "execution_count": 69,
   "metadata": {
    "collapsed": false
   },
   "outputs": [
    {
     "data": {
      "text/plain": [
       "SeriousDlqin2yrs                        101503\n",
       "RevolvingUtilizationOfUnsecuredLines         0\n",
       "age                                          0\n",
       "NumberOfTime30-59DaysPastDueNotWorse         0\n",
       "DebtRatio                                    0\n",
       "MonthlyIncome                            20103\n",
       "NumberOfOpenCreditLinesAndLoans              0\n",
       "NumberOfTimes90DaysLate                      0\n",
       "NumberRealEstateLoansOrLines                 0\n",
       "NumberOfTime60-89DaysPastDueNotWorse         0\n",
       "NumberOfDependents                        2626\n",
       "dtype: int64"
      ]
     },
     "execution_count": 69,
     "metadata": {},
     "output_type": "execute_result"
    }
   ],
   "source": [
    "scoring_data.isnull().sum()"
   ]
  },
  {
   "cell_type": "code",
   "execution_count": 72,
   "metadata": {
    "collapsed": false
   },
   "outputs": [],
   "source": [
    "scoring_data = scoring_data.drop(scoring_data.columns[dependent_column], axis = 1)\n",
    "scoring_data.fillna(value_dict, inplace = True)\n",
    "\n",
    "discretize_ratios(scoring_data, [\"RevolvingUtilizationOfUnsecuredLines\", \"DebtRatio\"])\n",
    "binary_dummy(scoring_data, \"age\")\n",
    "log_values(scoring_data, \"MonthlyIncome\")\n",
    "standardize_values(scoring_data, [\"NumberOfTime30-59DaysPastDueNotWorse\", \"MonthlyIncome\", \"NumberOfOpenCreditLinesAndLoans\", \"NumberOfTimes90DaysLate\", \"NumberRealEstateLoansOrLines\", \"NumberOfTime60-89DaysPastDueNotWorse\", \"NumberOfDependents\"])"
   ]
  },
  {
   "cell_type": "code",
   "execution_count": 77,
   "metadata": {
    "collapsed": false
   },
   "outputs": [
    {
     "data": {
      "text/plain": [
       "Index(['RevolvingUtilizationOfUnsecuredLines', 'age',\n",
       "       'NumberOfTime30-59DaysPastDueNotWorse', 'DebtRatio', 'MonthlyIncome',\n",
       "       'NumberOfOpenCreditLinesAndLoans', 'NumberOfTimes90DaysLate',\n",
       "       'NumberRealEstateLoansOrLines', 'NumberOfTime60-89DaysPastDueNotWorse',\n",
       "       'NumberOfDependents'],\n",
       "      dtype='object')"
      ]
     },
     "execution_count": 77,
     "metadata": {},
     "output_type": "execute_result"
    }
   ],
   "source": [
    "scoring_data.columns"
   ]
  },
  {
   "cell_type": "code",
   "execution_count": 78,
   "metadata": {
    "collapsed": false
   },
   "outputs": [
    {
     "data": {
      "text/plain": [
       "Index(['SeriousDlqin2yrs', 'RevolvingUtilizationOfUnsecuredLines', 'age',\n",
       "       'NumberOfTime30-59DaysPastDueNotWorse', 'DebtRatio', 'MonthlyIncome',\n",
       "       'NumberOfOpenCreditLinesAndLoans', 'NumberOfTimes90DaysLate',\n",
       "       'NumberRealEstateLoansOrLines', 'NumberOfTime60-89DaysPastDueNotWorse',\n",
       "       'NumberOfDependents'],\n",
       "      dtype='object')"
      ]
     },
     "execution_count": 78,
     "metadata": {},
     "output_type": "execute_result"
    }
   ],
   "source": [
    "training_data.columns"
   ]
  },
  {
   "cell_type": "code",
   "execution_count": 81,
   "metadata": {
    "collapsed": false
   },
   "outputs": [],
   "source": [
    "prediction = predict_model(model, scoring_data) \n",
    "np.savetxt(\"predicted_values.csv\", prediction)"
   ]
  }
 ],
 "metadata": {
  "kernelspec": {
   "display_name": "Python 3",
   "language": "python",
   "name": "python3"
  },
  "language_info": {
   "codemirror_mode": {
    "name": "ipython",
    "version": 3
   },
   "file_extension": ".py",
   "mimetype": "text/x-python",
   "name": "python",
   "nbconvert_exporter": "python",
   "pygments_lexer": "ipython3",
   "version": "3.4.3"
  }
 },
 "nbformat": 4,
 "nbformat_minor": 0
}
