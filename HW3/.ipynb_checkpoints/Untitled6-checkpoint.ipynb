{
 "cells": [
  {
   "cell_type": "code",
   "execution_count": 1,
   "metadata": {
    "collapsed": false
   },
   "outputs": [],
   "source": [
    "%matplotlib inline\n",
    "%run hw3.py"
   ]
  },
  {
   "cell_type": "code",
   "execution_count": 2,
   "metadata": {
    "collapsed": false
   },
   "outputs": [],
   "source": [
    "## Read data\n",
    "training_data = read_data(training_filename)\n",
    "\n",
    "## Remove outliers\n",
    "training_data = training_data[training_data[\"age\"] > 0]\n",
    "\n",
    "## Pre-process data\n",
    "value_dict = impute_values(training_data)\n",
    "\n",
    "## Generate features\n",
    "discretize_ratios(training_data, [\"RevolvingUtilizationOfUnsecuredLines\", \"DebtRatio\"])\n",
    "log_values(training_data, \"MonthlyIncome\")\n",
    "standardize_values(training_data, [\"age\", \"NumberOfTime30-59DaysPastDueNotWorse\", \"MonthlyIncome\", \"NumberOfOpenCreditLinesAndLoans\", \"NumberOfTimes90DaysLate\", \"NumberRealEstateLoansOrLines\", \"NumberOfTime60-89DaysPastDueNotWorse\", \"NumberOfDependents\"])"
   ]
  },
  {
   "cell_type": "code",
   "execution_count": 3,
   "metadata": {
    "collapsed": true
   },
   "outputs": [],
   "source": [
    "models_framework = {\"Logit\": LogisticRegression(),\n",
    "                        \"K-NN\": KNeighborsClassifier(),\n",
    "                        \"Decision Tree\": DecisionTreeClassifier(),\n",
    "                        \"SVM\": LinearSVC(),\n",
    "                        \"Random Forest\": RandomForestClassifier(),\n",
    "                        \"Boosting\": GradientBoostingClassifier(),\n",
    "                        \"K-NN Bagging\": BaggingClassifier(KNeighborsClassifier())}"
   ]
  },
  {
   "cell_type": "code",
   "execution_count": 4,
   "metadata": {
    "collapsed": true
   },
   "outputs": [],
   "source": [
    "model_attributes = [\"best_params\", \"best_score\", \"best_model\", \"time\"]\n",
    "model_metrics = [\"accuracy\", \"precision\", \"recall\", \"F1\", \"AUC\"]\n",
    "built_models = {model: dict.fromkeys(model_attributes + model_metrics) for model in list(models_framework.keys())}"
   ]
  },
  {
   "cell_type": "code",
   "execution_count": null,
   "metadata": {
    "collapsed": true
   },
   "outputs": [],
   "source": [
    "y = training_data[training_data.columns[dependent_column]]\n",
    "X = training_data.drop(training_data.columns[dependent_column], axis = 1)\n",
    "## Create 80/20 train/test split\n",
    "X_train, X_test, y_train, y_test = train_test_split(X, y, test_size = 0.2, random_state = 0)\n",
    "\n",
    "for index, grid in models_framework.items():\n",
    "       \n",
    "    ## Measure time to fit classifier based on parameters\n",
    "    start_time = time.time()\n",
    "\n",
    "    grid.fit(X_train, y_train)\n",
    "\n",
    "    ## Store model attributes\n",
    "    built_models[index][\"time\"] = time.time() - start_time\n",
    "    built_models[index][\"best_model\"] = grid.best_estimator_ \n",
    "    built_models[index][\"best_params\"] = grid.best_params_\n",
    "    built_models[index][\"best_score\"] = grid.best_score_\n",
    "        \n",
    "    y_predict = built_models[index][\"best_model\"].predict(X_test)\n",
    "    ## Store model metrics\n",
    "    built_models[index][\"accuracy\"] = accuracy_score(y_test, y_predict)\n",
    "    built_models[index][\"precision\"] = precision_score(y_test, y_predict)\n",
    "    built_models[index][\"recall\"] = recall_score(y_test, y_predict)\n",
    "    built_models[index][\"F1\"] = f1_score(y_test, y_predict)\n",
    "    built_models[index][\"AUC\"] = roc_auc_score(y_test, y_predict)\n",
    "\n",
    "    if hasattr(clf, \"predict_proba\"):\n",
    "        y_prob = built_models[index][\"best_model\"].predict_proba(X_test)[:,1]\n",
    "    else:\n",
    "        y_prob = built_models[index][\"best_model\"].decision_function(X_test)\n",
    "\n",
    "    print(built_models[index])"
   ]
  },
  {
   "cell_type": "code",
   "execution_count": null,
   "metadata": {
    "collapsed": true
   },
   "outputs": [],
   "source": []
  }
 ],
 "metadata": {
  "kernelspec": {
   "display_name": "Python 3",
   "language": "python",
   "name": "python3"
  },
  "language_info": {
   "codemirror_mode": {
    "name": "ipython",
    "version": 3
   },
   "file_extension": ".py",
   "mimetype": "text/x-python",
   "name": "python",
   "nbconvert_exporter": "python",
   "pygments_lexer": "ipython3",
   "version": "3.5.1"
  }
 },
 "nbformat": 4,
 "nbformat_minor": 0
}
