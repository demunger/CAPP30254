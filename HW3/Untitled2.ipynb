{
 "cells": [
  {
   "cell_type": "code",
   "execution_count": 1,
   "metadata": {
    "collapsed": false
   },
   "outputs": [
    {
     "name": "stdout",
     "output_type": "stream",
     "text": [
      "Fitting 3 folds for each of 420 candidates, totalling 1260 fits\n",
      "[CV] max_depth=1, subsample=0.1, n_estimators=1, learning_rate=0.001 .\n",
      "[CV]  max_depth=1, subsample=0.1, n_estimators=1, learning_rate=0.001, score=0.703025 -   0.1s\n",
      "[CV] max_depth=1, subsample=0.1, n_estimators=1, learning_rate=0.001 .\n",
      "[CV]  max_depth=1, subsample=0.1, n_estimators=1, learning_rate=0.001, score=0.703025 -   0.1s"
     ]
    },
    {
     "name": "stderr",
     "output_type": "stream",
     "text": [
      "[Parallel(n_jobs=1)]: Done   1 jobs       | elapsed:    0.1s\n",
      "[Parallel(n_jobs=1)]: Done   2 jobs       | elapsed:    0.3s\n"
     ]
    },
    {
     "name": "stdout",
     "output_type": "stream",
     "text": [
      "\n",
      "[CV] max_depth=1, subsample=0.1, n_estimators=1, learning_rate=0.001 .\n",
      "[CV]  max_depth=1, subsample=0.1, n_estimators=1, learning_rate=0.001, score=0.703018 -   0.1s\n",
      "[CV] max_depth=1, subsample=0.5, n_estimators=1, learning_rate=0.001 .\n",
      "[CV]  max_depth=1, subsample=0.5, n_estimators=1, learning_rate=0.001, score=0.703025 -   0.1s\n",
      "[CV] max_depth=1, subsample=0.5, n_estimators=1, learning_rate=0.001 .\n",
      "[CV]  max_depth=1, subsample=0.5, n_estimators=1, learning_rate=0.001, score=0.703025 -   0.1s\n",
      "[CV] max_depth=1, subsample=0.5, n_estimators=1, learning_rate=0.001 .\n",
      "[CV]  max_depth=1, subsample=0.5, n_estimators=1, learning_rate=0.001, score=0.703018 -   0.1s\n",
      "[CV] max_depth=1, subsample=1.0, n_estimators=1, learning_rate=0.001 .\n",
      "[CV]  max_depth=1, subsample=1.0, n_estimators=1, learning_rate=0.001, score=0.703025 -   0.1s\n",
      "[CV] max_depth=1, subsample=1.0, n_estimators=1, learning_rate=0.001 .\n",
      "[CV]  max_depth=1, subsample=1.0, n_estimators=1, learning_rate=0.001, score=0.703025 -   0.1s"
     ]
    },
    {
     "name": "stderr",
     "output_type": "stream",
     "text": [
      "[Parallel(n_jobs=1)]: Done   5 jobs       | elapsed:    0.6s\n",
      "[Parallel(n_jobs=1)]: Done   8 jobs       | elapsed:    1.0s\n"
     ]
    },
    {
     "name": "stdout",
     "output_type": "stream",
     "text": [
      "\n",
      "[CV] max_depth=1, subsample=1.0, n_estimators=1, learning_rate=0.001 .\n",
      "[CV]  max_depth=1, subsample=1.0, n_estimators=1, learning_rate=0.001, score=0.703018 -   0.1s\n",
      "[CV] max_depth=1, subsample=0.1, n_estimators=10, learning_rate=0.001 \n",
      "[CV]  max_depth=1, subsample=0.1, n_estimators=10, learning_rate=0.001, score=0.703025 -   0.3s\n",
      "[CV] max_depth=1, subsample=0.1, n_estimators=10, learning_rate=0.001 \n",
      "[CV]  max_depth=1, subsample=0.1, n_estimators=10, learning_rate=0.001, score=0.703025 -   0.3s\n",
      "[CV] max_depth=1, subsample=0.1, n_estimators=10, learning_rate=0.001 \n",
      "[CV]  max_depth=1, subsample=0.1, n_estimators=10, learning_rate=0.001, score=0.703018 -   0.3s\n",
      "[CV] max_depth=1, subsample=0.5, n_estimators=10, learning_rate=0.001 \n",
      "[CV]  max_depth=1, subsample=0.5, n_estimators=10, learning_rate=0.001, score=0.703025 -   0.4s\n",
      "[CV] max_depth=1, subsample=0.5, n_estimators=10, learning_rate=0.001 \n",
      "[CV]  max_depth=1, subsample=0.5, n_estimators=10, learning_rate=0.001, score=0.703025 -   0.4s\n",
      "[CV] max_depth=1, subsample=0.5, n_estimators=10, learning_rate=0.001 \n",
      "[CV]  max_depth=1, subsample=0.5, n_estimators=10, learning_rate=0.001, score=0.703018 -   0.4s\n",
      "[CV] max_depth=1, subsample=1.0, n_estimators=10, learning_rate=0.001 \n",
      "[CV]  max_depth=1, subsample=1.0, n_estimators=10, learning_rate=0.001, score=0.703025 -   0.4s\n",
      "[CV] max_depth=1, subsample=1.0, n_estimators=10, learning_rate=0.001 \n",
      "[CV]  max_depth=1, subsample=1.0, n_estimators=10, learning_rate=0.001, score=0.703025 -   0.4s\n",
      "[CV] max_depth=1, subsample=1.0, n_estimators=10, learning_rate=0.001 \n",
      "[CV]  max_depth=1, subsample=1.0, n_estimators=10, learning_rate=0.001, score=0.703018 -   0.4s"
     ]
    },
    {
     "name": "stderr",
     "output_type": "stream",
     "text": [
      "[Parallel(n_jobs=1)]: Done  13 jobs       | elapsed:    2.5s\n",
      "[Parallel(n_jobs=1)]: Done  18 jobs       | elapsed:    4.4s\n"
     ]
    },
    {
     "name": "stdout",
     "output_type": "stream",
     "text": [
      "\n",
      "[CV] max_depth=1, subsample=0.1, n_estimators=100, learning_rate=0.001 \n",
      "[CV]  max_depth=1, subsample=0.1, n_estimators=100, learning_rate=0.001, score=0.703025 -   2.0s\n",
      "[CV] max_depth=1, subsample=0.1, n_estimators=100, learning_rate=0.001 \n",
      "[CV]  max_depth=1, subsample=0.1, n_estimators=100, learning_rate=0.001, score=0.703025 -   2.0s\n",
      "[CV] max_depth=1, subsample=0.1, n_estimators=100, learning_rate=0.001 \n",
      "[CV]  max_depth=1, subsample=0.1, n_estimators=100, learning_rate=0.001, score=0.703018 -   2.0s\n",
      "[CV] max_depth=1, subsample=0.5, n_estimators=100, learning_rate=0.001 \n",
      "[CV]  max_depth=1, subsample=0.5, n_estimators=100, learning_rate=0.001, score=0.703025 -   3.2s\n",
      "[CV] max_depth=1, subsample=0.5, n_estimators=100, learning_rate=0.001 \n",
      "[CV]  max_depth=1, subsample=0.5, n_estimators=100, learning_rate=0.001, score=0.703025 -   3.2s\n",
      "[CV] max_depth=1, subsample=0.5, n_estimators=100, learning_rate=0.001 \n",
      "[CV]  max_depth=1, subsample=0.5, n_estimators=100, learning_rate=0.001, score=0.703018 -   3.2s\n",
      "[CV] max_depth=1, subsample=1.0, n_estimators=100, learning_rate=0.001 \n",
      "[CV]  max_depth=1, subsample=1.0, n_estimators=100, learning_rate=0.001, score=0.703025 -   2.9s\n",
      "[CV] max_depth=1, subsample=1.0, n_estimators=100, learning_rate=0.001 \n",
      "[CV]  max_depth=1, subsample=1.0, n_estimators=100, learning_rate=0.001, score=0.703025 -   2.8s\n",
      "[CV] max_depth=1, subsample=1.0, n_estimators=100, learning_rate=0.001 \n",
      "[CV]  max_depth=1, subsample=1.0, n_estimators=100, learning_rate=0.001, score=0.703018 -   2.8s\n",
      "[CV] max_depth=1, subsample=0.1, n_estimators=1000, learning_rate=0.001 \n",
      "[CV]  max_depth=1, subsample=0.1, n_estimators=1000, learning_rate=0.001, score=0.955425 -  19.3s\n",
      "[CV] max_depth=1, subsample=0.1, n_estimators=1000, learning_rate=0.001 \n",
      "[CV]  max_depth=1, subsample=0.1, n_estimators=1000, learning_rate=0.001, score=0.954750 -  19.1s\n",
      "[CV] max_depth=1, subsample=0.1, n_estimators=1000, learning_rate=0.001 \n",
      "[CV]  max_depth=1, subsample=0.1, n_estimators=1000, learning_rate=0.001, score=0.955049 -  19.2s\n",
      "[CV] max_depth=1, subsample=0.5, n_estimators=1000, learning_rate=0.001 \n",
      "[CV]  max_depth=1, subsample=0.5, n_estimators=1000, learning_rate=0.001, score=0.955425 -  32.0s\n",
      "[CV] max_depth=1, subsample=0.5, n_estimators=1000, learning_rate=0.001 \n",
      "[CV]  max_depth=1, subsample=0.5, n_estimators=1000, learning_rate=0.001, score=0.954750 -  31.3s"
     ]
    },
    {
     "name": "stderr",
     "output_type": "stream",
     "text": [
      "[Parallel(n_jobs=1)]: Done  25 jobs       | elapsed:   22.9s\n",
      "[Parallel(n_jobs=1)]: Done  32 jobs       | elapsed:  2.5min\n"
     ]
    },
    {
     "name": "stdout",
     "output_type": "stream",
     "text": [
      "\n",
      "[CV] max_depth=1, subsample=0.5, n_estimators=1000, learning_rate=0.001 \n",
      "[CV]  max_depth=1, subsample=0.5, n_estimators=1000, learning_rate=0.001, score=0.955049 -  31.1s\n",
      "[CV] max_depth=1, subsample=1.0, n_estimators=1000, learning_rate=0.001 \n",
      "[CV]  max_depth=1, subsample=1.0, n_estimators=1000, learning_rate=0.001, score=0.955425 -  27.8s\n",
      "[CV] max_depth=1, subsample=1.0, n_estimators=1000, learning_rate=0.001 \n",
      "[CV]  max_depth=1, subsample=1.0, n_estimators=1000, learning_rate=0.001, score=0.954750 -  28.3s\n",
      "[CV] max_depth=1, subsample=1.0, n_estimators=1000, learning_rate=0.001 \n",
      "[CV]  max_depth=1, subsample=1.0, n_estimators=1000, learning_rate=0.001, score=0.955049 -  32.3s\n",
      "[CV] max_depth=3, subsample=0.1, n_estimators=1, learning_rate=0.001 .\n",
      "[CV]  max_depth=3, subsample=0.1, n_estimators=1, learning_rate=0.001, score=0.703025 -   0.1s\n",
      "[CV] max_depth=3, subsample=0.1, n_estimators=1, learning_rate=0.001 .\n",
      "[CV]  max_depth=3, subsample=0.1, n_estimators=1, learning_rate=0.001, score=0.703025 -   0.1s\n",
      "[CV] max_depth=3, subsample=0.1, n_estimators=1, learning_rate=0.001 .\n",
      "[CV]  max_depth=3, subsample=0.1, n_estimators=1, learning_rate=0.001, score=0.703018 -   0.1s\n",
      "[CV] max_depth=3, subsample=0.5, n_estimators=1, learning_rate=0.001 .\n",
      "[CV]  max_depth=3, subsample=0.5, n_estimators=1, learning_rate=0.001, score=0.703025 -   0.2s\n",
      "[CV] max_depth=3, subsample=0.5, n_estimators=1, learning_rate=0.001 .\n",
      "[CV]  max_depth=3, subsample=0.5, n_estimators=1, learning_rate=0.001, score=0.703025 -   0.2s\n",
      "[CV] max_depth=3, subsample=0.5, n_estimators=1, learning_rate=0.001 .\n",
      "[CV]  max_depth=3, subsample=0.5, n_estimators=1, learning_rate=0.001, score=0.703018 -   0.2s\n",
      "[CV] max_depth=3, subsample=1.0, n_estimators=1, learning_rate=0.001 .\n",
      "[CV]  max_depth=3, subsample=1.0, n_estimators=1, learning_rate=0.001, score=0.703025 -   0.2s\n",
      "[CV] max_depth=3, subsample=1.0, n_estimators=1, learning_rate=0.001 .\n",
      "[CV]  max_depth=3, subsample=1.0, n_estimators=1, learning_rate=0.001, score=0.703025 -   0.2s\n",
      "[CV] max_depth=3, subsample=1.0, n_estimators=1, learning_rate=0.001 .\n",
      "[CV]  max_depth=3, subsample=1.0, n_estimators=1, learning_rate=0.001, score=0.703018 -   0.2s\n",
      "[CV] max_depth=3, subsample=0.1, n_estimators=10, learning_rate=0.001 \n",
      "[CV]  max_depth=3, subsample=0.1, n_estimators=10, learning_rate=0.001, score=0.703025 -   0.4s\n",
      "[CV] max_depth=3, subsample=0.1, n_estimators=10, learning_rate=0.001 \n",
      "[CV]  max_depth=3, subsample=0.1, n_estimators=10, learning_rate=0.001, score=0.703025 -   0.4s\n",
      "[CV] max_depth=3, subsample=0.1, n_estimators=10, learning_rate=0.001 \n",
      "[CV]  max_depth=3, subsample=0.1, n_estimators=10, learning_rate=0.001, score=0.703018 -   0.4s\n",
      "[CV] max_depth=3, subsample=0.5, n_estimators=10, learning_rate=0.001 \n",
      "[CV]  max_depth=3, subsample=0.5, n_estimators=10, learning_rate=0.001, score=0.703025 -   0.7s\n",
      "[CV] max_depth=3, subsample=0.5, n_estimators=10, learning_rate=0.001 \n",
      "[CV]  max_depth=3, subsample=0.5, n_estimators=10, learning_rate=0.001, score=0.703025 -   0.7s"
     ]
    },
    {
     "name": "stderr",
     "output_type": "stream",
     "text": [
      "[Parallel(n_jobs=1)]: Done  41 jobs       | elapsed:  4.5min\n",
      "[Parallel(n_jobs=1)]: Done  50 jobs       | elapsed:  4.5min\n"
     ]
    },
    {
     "name": "stdout",
     "output_type": "stream",
     "text": [
      "\n",
      "[CV] max_depth=3, subsample=0.5, n_estimators=10, learning_rate=0.001 \n",
      "[CV]  max_depth=3, subsample=0.5, n_estimators=10, learning_rate=0.001, score=0.703018 -   0.7s\n",
      "[CV] max_depth=3, subsample=1.0, n_estimators=10, learning_rate=0.001 \n",
      "[CV]  max_depth=3, subsample=1.0, n_estimators=10, learning_rate=0.001, score=0.703025 -   0.8s\n",
      "[CV] max_depth=3, subsample=1.0, n_estimators=10, learning_rate=0.001 \n",
      "[CV]  max_depth=3, subsample=1.0, n_estimators=10, learning_rate=0.001, score=0.703025 -   0.8s\n",
      "[CV] max_depth=3, subsample=1.0, n_estimators=10, learning_rate=0.001 \n",
      "[CV]  max_depth=3, subsample=1.0, n_estimators=10, learning_rate=0.001, score=0.703018 -   0.8s\n",
      "[CV] max_depth=3, subsample=0.1, n_estimators=100, learning_rate=0.001 \n",
      "[CV]  max_depth=3, subsample=0.1, n_estimators=100, learning_rate=0.001, score=0.703025 -   3.1s\n",
      "[CV] max_depth=3, subsample=0.1, n_estimators=100, learning_rate=0.001 \n",
      "[CV]  max_depth=3, subsample=0.1, n_estimators=100, learning_rate=0.001, score=0.703025 -   3.0s\n",
      "[CV] max_depth=3, subsample=0.1, n_estimators=100, learning_rate=0.001 \n",
      "[CV]  max_depth=3, subsample=0.1, n_estimators=100, learning_rate=0.001, score=0.703018 -   3.1s\n",
      "[CV] max_depth=3, subsample=0.5, n_estimators=100, learning_rate=0.001 \n",
      "[CV]  max_depth=3, subsample=0.5, n_estimators=100, learning_rate=0.001, score=0.703025 -   5.8s\n",
      "[CV] max_depth=3, subsample=0.5, n_estimators=100, learning_rate=0.001 \n",
      "[CV]  max_depth=3, subsample=0.5, n_estimators=100, learning_rate=0.001, score=0.703025 -   5.7s\n",
      "[CV] max_depth=3, subsample=0.5, n_estimators=100, learning_rate=0.001 \n",
      "[CV]  max_depth=3, subsample=0.5, n_estimators=100, learning_rate=0.001, score=0.703018 -   5.6s\n",
      "[CV] max_depth=3, subsample=1.0, n_estimators=100, learning_rate=0.001 \n",
      "[CV]  max_depth=3, subsample=1.0, n_estimators=100, learning_rate=0.001, score=0.703025 -   6.4s\n",
      "[CV] max_depth=3, subsample=1.0, n_estimators=100, learning_rate=0.001 \n",
      "[CV]  max_depth=3, subsample=1.0, n_estimators=100, learning_rate=0.001, score=0.703025 -   6.5s\n",
      "[CV] max_depth=3, subsample=1.0, n_estimators=100, learning_rate=0.001 \n",
      "[CV]  max_depth=3, subsample=1.0, n_estimators=100, learning_rate=0.001, score=0.703018 -   6.6s\n",
      "[CV] max_depth=3, subsample=0.1, n_estimators=1000, learning_rate=0.001 \n",
      "[CV]  max_depth=3, subsample=0.1, n_estimators=1000, learning_rate=0.001, score=0.955450 -  31.8s\n",
      "[CV] max_depth=3, subsample=0.1, n_estimators=1000, learning_rate=0.001 \n",
      "[CV]  max_depth=3, subsample=0.1, n_estimators=1000, learning_rate=0.001, score=0.954775 -  39.6s\n",
      "[CV] max_depth=3, subsample=0.1, n_estimators=1000, learning_rate=0.001 \n",
      "[CV]  max_depth=3, subsample=0.1, n_estimators=1000, learning_rate=0.001, score=0.955124 -  44.7s\n",
      "[CV] max_depth=3, subsample=0.5, n_estimators=1000, learning_rate=0.001 \n",
      "[CV]  max_depth=3, subsample=0.5, n_estimators=1000, learning_rate=0.001, score=0.955425 - 1.3min\n",
      "[CV] max_depth=3, subsample=0.5, n_estimators=1000, learning_rate=0.001 \n",
      "[CV]  max_depth=3, subsample=0.5, n_estimators=1000, learning_rate=0.001, score=0.954750 - 1.2min\n",
      "[CV] max_depth=3, subsample=0.5, n_estimators=1000, learning_rate=0.001 \n",
      "[CV]  max_depth=3, subsample=0.5, n_estimators=1000, learning_rate=0.001, score=0.955049 - 1.4min\n",
      "[CV] max_depth=3, subsample=1.0, n_estimators=1000, learning_rate=0.001 \n",
      "[CV]  max_depth=3, subsample=1.0, n_estimators=1000, learning_rate=0.001, score=0.955425 - 1.6min\n",
      "[CV] max_depth=3, subsample=1.0, n_estimators=1000, learning_rate=0.001 \n",
      "[CV]  max_depth=3, subsample=1.0, n_estimators=1000, learning_rate=0.001, score=0.954750 - 2.2min\n",
      "[CV] max_depth=3, subsample=1.0, n_estimators=1000, learning_rate=0.001 \n",
      "[CV]  max_depth=3, subsample=1.0, n_estimators=1000, learning_rate=0.001, score=0.955049 - 2.1min"
     ]
    },
    {
     "name": "stderr",
     "output_type": "stream",
     "text": [
      "[Parallel(n_jobs=1)]: Done  61 jobs       | elapsed:  5.1min\n",
      "[Parallel(n_jobs=1)]: Done  72 jobs       | elapsed: 17.2min\n"
     ]
    },
    {
     "name": "stdout",
     "output_type": "stream",
     "text": [
      "\n",
      "[CV] max_depth=5, subsample=0.1, n_estimators=1, learning_rate=0.001 .\n",
      "[CV]  max_depth=5, subsample=0.1, n_estimators=1, learning_rate=0.001, score=0.703025 -   0.2s\n",
      "[CV] max_depth=5, subsample=0.1, n_estimators=1, learning_rate=0.001 .\n",
      "[CV]  max_depth=5, subsample=0.1, n_estimators=1, learning_rate=0.001, score=0.703025 -   0.2s\n",
      "[CV] max_depth=5, subsample=0.1, n_estimators=1, learning_rate=0.001 .\n",
      "[CV]  max_depth=5, subsample=0.1, n_estimators=1, learning_rate=0.001, score=0.703018 -   0.2s\n",
      "[CV] max_depth=5, subsample=0.5, n_estimators=1, learning_rate=0.001 .\n",
      "[CV]  max_depth=5, subsample=0.5, n_estimators=1, learning_rate=0.001, score=0.703025 -   0.3s\n",
      "[CV] max_depth=5, subsample=0.5, n_estimators=1, learning_rate=0.001 .\n",
      "[CV]  max_depth=5, subsample=0.5, n_estimators=1, learning_rate=0.001, score=0.703025 -   0.3s\n",
      "[CV] max_depth=5, subsample=0.5, n_estimators=1, learning_rate=0.001 .\n",
      "[CV]  max_depth=5, subsample=0.5, n_estimators=1, learning_rate=0.001, score=0.703018 -   0.3s\n",
      "[CV] max_depth=5, subsample=1.0, n_estimators=1, learning_rate=0.001 .\n",
      "[CV]  max_depth=5, subsample=1.0, n_estimators=1, learning_rate=0.001, score=0.703025 -   0.3s\n",
      "[CV] max_depth=5, subsample=1.0, n_estimators=1, learning_rate=0.001 .\n",
      "[CV]  max_depth=5, subsample=1.0, n_estimators=1, learning_rate=0.001, score=0.703025 -   0.4s\n",
      "[CV] max_depth=5, subsample=1.0, n_estimators=1, learning_rate=0.001 .\n",
      "[CV]  max_depth=5, subsample=1.0, n_estimators=1, learning_rate=0.001, score=0.703018 -   0.4s\n",
      "[CV] max_depth=5, subsample=0.1, n_estimators=10, learning_rate=0.001 \n",
      "[CV]  max_depth=5, subsample=0.1, n_estimators=10, learning_rate=0.001, score=0.703025 -   0.9s\n",
      "[CV] max_depth=5, subsample=0.1, n_estimators=10, learning_rate=0.001 \n",
      "[CV]  max_depth=5, subsample=0.1, n_estimators=10, learning_rate=0.001, score=0.703025 -   0.9s\n",
      "[CV] max_depth=5, subsample=0.1, n_estimators=10, learning_rate=0.001 \n",
      "[CV]  max_depth=5, subsample=0.1, n_estimators=10, learning_rate=0.001, score=0.703018 -   0.9s\n",
      "[CV] max_depth=5, subsample=0.5, n_estimators=10, learning_rate=0.001 \n",
      "[CV]  max_depth=5, subsample=0.5, n_estimators=10, learning_rate=0.001, score=0.703025 -   1.6s\n",
      "[CV] max_depth=5, subsample=0.5, n_estimators=10, learning_rate=0.001 \n",
      "[CV]  max_depth=5, subsample=0.5, n_estimators=10, learning_rate=0.001, score=0.703025 -   1.6s\n",
      "[CV] max_depth=5, subsample=0.5, n_estimators=10, learning_rate=0.001 \n",
      "[CV]  max_depth=5, subsample=0.5, n_estimators=10, learning_rate=0.001, score=0.703018 -   1.7s\n",
      "[CV] max_depth=5, subsample=1.0, n_estimators=10, learning_rate=0.001 \n",
      "[CV]  max_depth=5, subsample=1.0, n_estimators=10, learning_rate=0.001, score=0.703025 -   2.1s\n",
      "[CV] max_depth=5, subsample=1.0, n_estimators=10, learning_rate=0.001 \n",
      "[CV]  max_depth=5, subsample=1.0, n_estimators=10, learning_rate=0.001, score=0.703025 -   2.3s\n",
      "[CV] max_depth=5, subsample=1.0, n_estimators=10, learning_rate=0.001 \n",
      "[CV]  max_depth=5, subsample=1.0, n_estimators=10, learning_rate=0.001, score=0.703018 -   2.2s\n",
      "[CV] max_depth=5, subsample=0.1, n_estimators=100, learning_rate=0.001 \n",
      "[CV]  max_depth=5, subsample=0.1, n_estimators=100, learning_rate=0.001, score=0.703025 -   7.7s\n",
      "[CV] max_depth=5, subsample=0.1, n_estimators=100, learning_rate=0.001 \n",
      "[CV]  max_depth=5, subsample=0.1, n_estimators=100, learning_rate=0.001, score=0.703025 -   7.7s\n",
      "[CV] max_depth=5, subsample=0.1, n_estimators=100, learning_rate=0.001 \n",
      "[CV]  max_depth=5, subsample=0.1, n_estimators=100, learning_rate=0.001, score=0.703018 -   8.0s\n",
      "[CV] max_depth=5, subsample=0.5, n_estimators=100, learning_rate=0.001 \n",
      "[CV]  max_depth=5, subsample=0.5, n_estimators=100, learning_rate=0.001, score=0.703025 -  15.4s\n",
      "[CV] max_depth=5, subsample=0.5, n_estimators=100, learning_rate=0.001 \n",
      "[CV]  max_depth=5, subsample=0.5, n_estimators=100, learning_rate=0.001, score=0.703025 -  16.9s\n",
      "[CV] max_depth=5, subsample=0.5, n_estimators=100, learning_rate=0.001 \n",
      "[CV]  max_depth=5, subsample=0.5, n_estimators=100, learning_rate=0.001, score=0.703018 -  15.8s\n",
      "[CV] max_depth=5, subsample=1.0, n_estimators=100, learning_rate=0.001 \n",
      "[CV]  max_depth=5, subsample=1.0, n_estimators=100, learning_rate=0.001, score=0.703025 -  16.7s\n",
      "[CV] max_depth=5, subsample=1.0, n_estimators=100, learning_rate=0.001 \n",
      "[CV]  max_depth=5, subsample=1.0, n_estimators=100, learning_rate=0.001, score=0.703025 -  14.4s"
     ]
    },
    {
     "name": "stderr",
     "output_type": "stream",
     "text": [
      "[Parallel(n_jobs=1)]: Done  85 jobs       | elapsed: 17.3min\n",
      "[Parallel(n_jobs=1)]: Done  98 jobs       | elapsed: 19.2min\n"
     ]
    },
    {
     "name": "stdout",
     "output_type": "stream",
     "text": [
      "\n",
      "[CV] max_depth=5, subsample=1.0, n_estimators=100, learning_rate=0.001 \n",
      "[CV]  max_depth=5, subsample=1.0, n_estimators=100, learning_rate=0.001, score=0.703018 -  14.0s\n",
      "[CV] max_depth=5, subsample=0.1, n_estimators=1000, learning_rate=0.001 \n",
      "[CV]  max_depth=5, subsample=0.1, n_estimators=1000, learning_rate=0.001, score=0.956100 -  51.7s\n",
      "[CV] max_depth=5, subsample=0.1, n_estimators=1000, learning_rate=0.001 \n",
      "[CV]  max_depth=5, subsample=0.1, n_estimators=1000, learning_rate=0.001, score=0.955150 -  47.2s\n",
      "[CV] max_depth=5, subsample=0.1, n_estimators=1000, learning_rate=0.001 \n",
      "[CV]  max_depth=5, subsample=0.1, n_estimators=1000, learning_rate=0.001, score=0.955624 -  48.2s\n",
      "[CV] max_depth=5, subsample=0.5, n_estimators=1000, learning_rate=0.001 \n",
      "[CV]  max_depth=5, subsample=0.5, n_estimators=1000, learning_rate=0.001, score=0.956000 - 1.8min\n",
      "[CV] max_depth=5, subsample=0.5, n_estimators=1000, learning_rate=0.001 \n",
      "[CV]  max_depth=5, subsample=0.5, n_estimators=1000, learning_rate=0.001, score=0.955150 - 2.7min\n",
      "[CV] max_depth=5, subsample=0.5, n_estimators=1000, learning_rate=0.001 \n",
      "[CV]  max_depth=5, subsample=0.5, n_estimators=1000, learning_rate=0.001, score=0.955549 - 1.9min\n",
      "[CV] max_depth=5, subsample=1.0, n_estimators=1000, learning_rate=0.001 \n",
      "[CV]  max_depth=5, subsample=1.0, n_estimators=1000, learning_rate=0.001, score=0.955825 - 3.0min\n",
      "[CV] max_depth=5, subsample=1.0, n_estimators=1000, learning_rate=0.001 \n",
      "[CV]  max_depth=5, subsample=1.0, n_estimators=1000, learning_rate=0.001, score=0.955100 - 3.7min\n",
      "[CV] max_depth=5, subsample=1.0, n_estimators=1000, learning_rate=0.001 \n"
     ]
    },
    {
     "ename": "KeyboardInterrupt",
     "evalue": "",
     "output_type": "error",
     "traceback": [
      "\u001b[1;31m---------------------------------------------------------------------------\u001b[0m",
      "\u001b[1;31mKeyboardInterrupt\u001b[0m                         Traceback (most recent call last)",
      "\u001b[1;32m/home/dmunger/CAPP30254/HW3/hw3.py\u001b[0m in \u001b[0;36m<module>\u001b[1;34m()\u001b[0m\n\u001b[0;32m    255\u001b[0m     \u001b[0mbuilt_models\u001b[0m \u001b[1;33m=\u001b[0m \u001b[1;33m{\u001b[0m\u001b[0mmodel\u001b[0m\u001b[1;33m:\u001b[0m \u001b[0mdict\u001b[0m\u001b[1;33m.\u001b[0m\u001b[0mfromkeys\u001b[0m\u001b[1;33m(\u001b[0m\u001b[0mmodel_attributes\u001b[0m \u001b[1;33m+\u001b[0m \u001b[0mmodel_metrics\u001b[0m\u001b[1;33m)\u001b[0m \u001b[1;32mfor\u001b[0m \u001b[0mmodel\u001b[0m \u001b[1;32min\u001b[0m \u001b[0mlist\u001b[0m\u001b[1;33m(\u001b[0m\u001b[0mmodels_framework\u001b[0m\u001b[1;33m.\u001b[0m\u001b[0mkeys\u001b[0m\u001b[1;33m(\u001b[0m\u001b[1;33m)\u001b[0m\u001b[1;33m)\u001b[0m\u001b[1;33m}\u001b[0m\u001b[1;33m\u001b[0m\u001b[0m\n\u001b[0;32m    256\u001b[0m \u001b[1;33m\u001b[0m\u001b[0m\n\u001b[1;32m--> 257\u001b[1;33m     \u001b[0mmagic_loop\u001b[0m\u001b[1;33m(\u001b[0m\u001b[0mmodels_framework\u001b[0m\u001b[1;33m,\u001b[0m \u001b[0mgrid_framework\u001b[0m\u001b[1;33m,\u001b[0m \u001b[0mbuilt_models\u001b[0m\u001b[1;33m,\u001b[0m \u001b[1;33m*\u001b[0m\u001b[0msplit_data\u001b[0m\u001b[1;33m(\u001b[0m\u001b[0mtraining_data\u001b[0m\u001b[1;33m)\u001b[0m\u001b[1;33m)\u001b[0m\u001b[1;33m\u001b[0m\u001b[0m\n\u001b[0m\u001b[0;32m    258\u001b[0m \u001b[1;33m\u001b[0m\u001b[0m\n\u001b[0;32m    259\u001b[0m     ''''\n",
      "\u001b[1;32m/home/dmunger/CAPP30254/HW3/hw3.py\u001b[0m in \u001b[0;36mmagic_loop\u001b[1;34m(models_framework, grid_framework, built_models, X_train, X_test, y_train, y_test)\u001b[0m\n\u001b[0;32m    118\u001b[0m \u001b[1;33m\u001b[0m\u001b[0m\n\u001b[0;32m    119\u001b[0m         \u001b[0mgrid\u001b[0m \u001b[1;33m=\u001b[0m \u001b[0mGridSearchCV\u001b[0m\u001b[1;33m(\u001b[0m\u001b[0mestimator\u001b[0m \u001b[1;33m=\u001b[0m \u001b[0mclf\u001b[0m\u001b[1;33m,\u001b[0m \u001b[0mparam_grid\u001b[0m \u001b[1;33m=\u001b[0m \u001b[0mparameters\u001b[0m\u001b[1;33m,\u001b[0m \u001b[0mverbose\u001b[0m \u001b[1;33m=\u001b[0m \u001b[1;36m10\u001b[0m\u001b[1;33m)\u001b[0m\u001b[1;33m\u001b[0m\u001b[0m\n\u001b[1;32m--> 120\u001b[1;33m         \u001b[0mgrid\u001b[0m\u001b[1;33m.\u001b[0m\u001b[0mfit\u001b[0m\u001b[1;33m(\u001b[0m\u001b[0mX_train\u001b[0m\u001b[1;33m,\u001b[0m \u001b[0my_train\u001b[0m\u001b[1;33m)\u001b[0m\u001b[1;33m\u001b[0m\u001b[0m\n\u001b[0m\u001b[0;32m    121\u001b[0m \u001b[1;33m\u001b[0m\u001b[0m\n\u001b[0;32m    122\u001b[0m         \u001b[1;31m## Store model attributes\u001b[0m\u001b[1;33m\u001b[0m\u001b[1;33m\u001b[0m\u001b[0m\n",
      "\u001b[1;32m/usr/local/lib/python3.4/dist-packages/sklearn/grid_search.py\u001b[0m in \u001b[0;36mfit\u001b[1;34m(self, X, y)\u001b[0m\n\u001b[0;32m    730\u001b[0m \u001b[1;33m\u001b[0m\u001b[0m\n\u001b[0;32m    731\u001b[0m         \"\"\"\n\u001b[1;32m--> 732\u001b[1;33m         \u001b[1;32mreturn\u001b[0m \u001b[0mself\u001b[0m\u001b[1;33m.\u001b[0m\u001b[0m_fit\u001b[0m\u001b[1;33m(\u001b[0m\u001b[0mX\u001b[0m\u001b[1;33m,\u001b[0m \u001b[0my\u001b[0m\u001b[1;33m,\u001b[0m \u001b[0mParameterGrid\u001b[0m\u001b[1;33m(\u001b[0m\u001b[0mself\u001b[0m\u001b[1;33m.\u001b[0m\u001b[0mparam_grid\u001b[0m\u001b[1;33m)\u001b[0m\u001b[1;33m)\u001b[0m\u001b[1;33m\u001b[0m\u001b[0m\n\u001b[0m\u001b[0;32m    733\u001b[0m \u001b[1;33m\u001b[0m\u001b[0m\n\u001b[0;32m    734\u001b[0m \u001b[1;33m\u001b[0m\u001b[0m\n",
      "\u001b[1;32m/usr/local/lib/python3.4/dist-packages/sklearn/grid_search.py\u001b[0m in \u001b[0;36m_fit\u001b[1;34m(self, X, y, parameter_iterable)\u001b[0m\n\u001b[0;32m    503\u001b[0m                                     \u001b[0mself\u001b[0m\u001b[1;33m.\u001b[0m\u001b[0mfit_params\u001b[0m\u001b[1;33m,\u001b[0m \u001b[0mreturn_parameters\u001b[0m\u001b[1;33m=\u001b[0m\u001b[1;32mTrue\u001b[0m\u001b[1;33m,\u001b[0m\u001b[1;33m\u001b[0m\u001b[0m\n\u001b[0;32m    504\u001b[0m                                     error_score=self.error_score)\n\u001b[1;32m--> 505\u001b[1;33m                 \u001b[1;32mfor\u001b[0m \u001b[0mparameters\u001b[0m \u001b[1;32min\u001b[0m \u001b[0mparameter_iterable\u001b[0m\u001b[1;33m\u001b[0m\u001b[0m\n\u001b[0m\u001b[0;32m    506\u001b[0m                 for train, test in cv)\n\u001b[0;32m    507\u001b[0m \u001b[1;33m\u001b[0m\u001b[0m\n",
      "\u001b[1;32m/usr/local/lib/python3.4/dist-packages/sklearn/externals/joblib/parallel.py\u001b[0m in \u001b[0;36m__call__\u001b[1;34m(self, iterable)\u001b[0m\n\u001b[0;32m    657\u001b[0m             \u001b[0mself\u001b[0m\u001b[1;33m.\u001b[0m\u001b[0m_iterating\u001b[0m \u001b[1;33m=\u001b[0m \u001b[1;32mTrue\u001b[0m\u001b[1;33m\u001b[0m\u001b[0m\n\u001b[0;32m    658\u001b[0m             \u001b[1;32mfor\u001b[0m \u001b[0mfunction\u001b[0m\u001b[1;33m,\u001b[0m \u001b[0margs\u001b[0m\u001b[1;33m,\u001b[0m \u001b[0mkwargs\u001b[0m \u001b[1;32min\u001b[0m \u001b[0miterable\u001b[0m\u001b[1;33m:\u001b[0m\u001b[1;33m\u001b[0m\u001b[0m\n\u001b[1;32m--> 659\u001b[1;33m                 \u001b[0mself\u001b[0m\u001b[1;33m.\u001b[0m\u001b[0mdispatch\u001b[0m\u001b[1;33m(\u001b[0m\u001b[0mfunction\u001b[0m\u001b[1;33m,\u001b[0m \u001b[0margs\u001b[0m\u001b[1;33m,\u001b[0m \u001b[0mkwargs\u001b[0m\u001b[1;33m)\u001b[0m\u001b[1;33m\u001b[0m\u001b[0m\n\u001b[0m\u001b[0;32m    660\u001b[0m \u001b[1;33m\u001b[0m\u001b[0m\n\u001b[0;32m    661\u001b[0m             \u001b[1;32mif\u001b[0m \u001b[0mpre_dispatch\u001b[0m \u001b[1;33m==\u001b[0m \u001b[1;34m\"all\"\u001b[0m \u001b[1;32mor\u001b[0m \u001b[0mn_jobs\u001b[0m \u001b[1;33m==\u001b[0m \u001b[1;36m1\u001b[0m\u001b[1;33m:\u001b[0m\u001b[1;33m\u001b[0m\u001b[0m\n",
      "\u001b[1;32m/usr/local/lib/python3.4/dist-packages/sklearn/externals/joblib/parallel.py\u001b[0m in \u001b[0;36mdispatch\u001b[1;34m(self, func, args, kwargs)\u001b[0m\n\u001b[0;32m    404\u001b[0m         \"\"\"\n\u001b[0;32m    405\u001b[0m         \u001b[1;32mif\u001b[0m \u001b[0mself\u001b[0m\u001b[1;33m.\u001b[0m\u001b[0m_pool\u001b[0m \u001b[1;32mis\u001b[0m \u001b[1;32mNone\u001b[0m\u001b[1;33m:\u001b[0m\u001b[1;33m\u001b[0m\u001b[0m\n\u001b[1;32m--> 406\u001b[1;33m             \u001b[0mjob\u001b[0m \u001b[1;33m=\u001b[0m \u001b[0mImmediateApply\u001b[0m\u001b[1;33m(\u001b[0m\u001b[0mfunc\u001b[0m\u001b[1;33m,\u001b[0m \u001b[0margs\u001b[0m\u001b[1;33m,\u001b[0m \u001b[0mkwargs\u001b[0m\u001b[1;33m)\u001b[0m\u001b[1;33m\u001b[0m\u001b[0m\n\u001b[0m\u001b[0;32m    407\u001b[0m             \u001b[0mindex\u001b[0m \u001b[1;33m=\u001b[0m \u001b[0mlen\u001b[0m\u001b[1;33m(\u001b[0m\u001b[0mself\u001b[0m\u001b[1;33m.\u001b[0m\u001b[0m_jobs\u001b[0m\u001b[1;33m)\u001b[0m\u001b[1;33m\u001b[0m\u001b[0m\n\u001b[0;32m    408\u001b[0m             \u001b[1;32mif\u001b[0m \u001b[1;32mnot\u001b[0m \u001b[0m_verbosity_filter\u001b[0m\u001b[1;33m(\u001b[0m\u001b[0mindex\u001b[0m\u001b[1;33m,\u001b[0m \u001b[0mself\u001b[0m\u001b[1;33m.\u001b[0m\u001b[0mverbose\u001b[0m\u001b[1;33m)\u001b[0m\u001b[1;33m:\u001b[0m\u001b[1;33m\u001b[0m\u001b[0m\n",
      "\u001b[1;32m/usr/local/lib/python3.4/dist-packages/sklearn/externals/joblib/parallel.py\u001b[0m in \u001b[0;36m__init__\u001b[1;34m(self, func, args, kwargs)\u001b[0m\n\u001b[0;32m    138\u001b[0m         \u001b[1;31m# Don't delay the application, to avoid keeping the input\u001b[0m\u001b[1;33m\u001b[0m\u001b[1;33m\u001b[0m\u001b[0m\n\u001b[0;32m    139\u001b[0m         \u001b[1;31m# arguments in memory\u001b[0m\u001b[1;33m\u001b[0m\u001b[1;33m\u001b[0m\u001b[0m\n\u001b[1;32m--> 140\u001b[1;33m         \u001b[0mself\u001b[0m\u001b[1;33m.\u001b[0m\u001b[0mresults\u001b[0m \u001b[1;33m=\u001b[0m \u001b[0mfunc\u001b[0m\u001b[1;33m(\u001b[0m\u001b[1;33m*\u001b[0m\u001b[0margs\u001b[0m\u001b[1;33m,\u001b[0m \u001b[1;33m**\u001b[0m\u001b[0mkwargs\u001b[0m\u001b[1;33m)\u001b[0m\u001b[1;33m\u001b[0m\u001b[0m\n\u001b[0m\u001b[0;32m    141\u001b[0m \u001b[1;33m\u001b[0m\u001b[0m\n\u001b[0;32m    142\u001b[0m     \u001b[1;32mdef\u001b[0m \u001b[0mget\u001b[0m\u001b[1;33m(\u001b[0m\u001b[0mself\u001b[0m\u001b[1;33m)\u001b[0m\u001b[1;33m:\u001b[0m\u001b[1;33m\u001b[0m\u001b[0m\n",
      "\u001b[1;32m/usr/local/lib/python3.4/dist-packages/sklearn/cross_validation.py\u001b[0m in \u001b[0;36m_fit_and_score\u001b[1;34m(estimator, X, y, scorer, train, test, verbose, parameters, fit_params, return_train_score, return_parameters, error_score)\u001b[0m\n\u001b[0;32m   1457\u001b[0m             \u001b[0mestimator\u001b[0m\u001b[1;33m.\u001b[0m\u001b[0mfit\u001b[0m\u001b[1;33m(\u001b[0m\u001b[0mX_train\u001b[0m\u001b[1;33m,\u001b[0m \u001b[1;33m**\u001b[0m\u001b[0mfit_params\u001b[0m\u001b[1;33m)\u001b[0m\u001b[1;33m\u001b[0m\u001b[0m\n\u001b[0;32m   1458\u001b[0m         \u001b[1;32melse\u001b[0m\u001b[1;33m:\u001b[0m\u001b[1;33m\u001b[0m\u001b[0m\n\u001b[1;32m-> 1459\u001b[1;33m             \u001b[0mestimator\u001b[0m\u001b[1;33m.\u001b[0m\u001b[0mfit\u001b[0m\u001b[1;33m(\u001b[0m\u001b[0mX_train\u001b[0m\u001b[1;33m,\u001b[0m \u001b[0my_train\u001b[0m\u001b[1;33m,\u001b[0m \u001b[1;33m**\u001b[0m\u001b[0mfit_params\u001b[0m\u001b[1;33m)\u001b[0m\u001b[1;33m\u001b[0m\u001b[0m\n\u001b[0m\u001b[0;32m   1460\u001b[0m \u001b[1;33m\u001b[0m\u001b[0m\n\u001b[0;32m   1461\u001b[0m     \u001b[1;32mexcept\u001b[0m \u001b[0mException\u001b[0m \u001b[1;32mas\u001b[0m \u001b[0me\u001b[0m\u001b[1;33m:\u001b[0m\u001b[1;33m\u001b[0m\u001b[0m\n",
      "\u001b[1;32m/usr/local/lib/python3.4/dist-packages/sklearn/ensemble/gradient_boosting.py\u001b[0m in \u001b[0;36mfit\u001b[1;34m(self, X, y, sample_weight, monitor)\u001b[0m\n\u001b[0;32m    978\u001b[0m         \u001b[1;31m# fit the boosting stages\u001b[0m\u001b[1;33m\u001b[0m\u001b[1;33m\u001b[0m\u001b[0m\n\u001b[0;32m    979\u001b[0m         n_stages = self._fit_stages(X, y, y_pred, sample_weight, random_state,\n\u001b[1;32m--> 980\u001b[1;33m                                     begin_at_stage, monitor)\n\u001b[0m\u001b[0;32m    981\u001b[0m         \u001b[1;31m# change shape of arrays after fit (early-stopping or additional ests)\u001b[0m\u001b[1;33m\u001b[0m\u001b[1;33m\u001b[0m\u001b[0m\n\u001b[0;32m    982\u001b[0m         \u001b[1;32mif\u001b[0m \u001b[0mn_stages\u001b[0m \u001b[1;33m!=\u001b[0m \u001b[0mself\u001b[0m\u001b[1;33m.\u001b[0m\u001b[0mestimators_\u001b[0m\u001b[1;33m.\u001b[0m\u001b[0mshape\u001b[0m\u001b[1;33m[\u001b[0m\u001b[1;36m0\u001b[0m\u001b[1;33m]\u001b[0m\u001b[1;33m:\u001b[0m\u001b[1;33m\u001b[0m\u001b[0m\n",
      "\u001b[1;32m/usr/local/lib/python3.4/dist-packages/sklearn/ensemble/gradient_boosting.py\u001b[0m in \u001b[0;36m_fit_stages\u001b[1;34m(self, X, y, y_pred, sample_weight, random_state, begin_at_stage, monitor)\u001b[0m\n\u001b[0;32m   1038\u001b[0m             y_pred = self._fit_stage(i, X, y, y_pred, sample_weight,\n\u001b[0;32m   1039\u001b[0m                                      \u001b[0msample_mask\u001b[0m\u001b[1;33m,\u001b[0m \u001b[0mcriterion\u001b[0m\u001b[1;33m,\u001b[0m \u001b[0msplitter\u001b[0m\u001b[1;33m,\u001b[0m\u001b[1;33m\u001b[0m\u001b[0m\n\u001b[1;32m-> 1040\u001b[1;33m                                      random_state)\n\u001b[0m\u001b[0;32m   1041\u001b[0m \u001b[1;33m\u001b[0m\u001b[0m\n\u001b[0;32m   1042\u001b[0m             \u001b[1;31m# track deviance (= loss)\u001b[0m\u001b[1;33m\u001b[0m\u001b[1;33m\u001b[0m\u001b[0m\n",
      "\u001b[1;32m/usr/local/lib/python3.4/dist-packages/sklearn/ensemble/gradient_boosting.py\u001b[0m in \u001b[0;36m_fit_stage\u001b[1;34m(self, i, X, y, y_pred, sample_weight, sample_mask, criterion, splitter, random_state)\u001b[0m\n\u001b[0;32m    764\u001b[0m \u001b[1;33m\u001b[0m\u001b[0m\n\u001b[0;32m    765\u001b[0m             tree.fit(X, residual, sample_weight=sample_weight,\n\u001b[1;32m--> 766\u001b[1;33m                      check_input=False)\n\u001b[0m\u001b[0;32m    767\u001b[0m \u001b[1;33m\u001b[0m\u001b[0m\n\u001b[0;32m    768\u001b[0m             \u001b[1;31m# update tree leaves\u001b[0m\u001b[1;33m\u001b[0m\u001b[1;33m\u001b[0m\u001b[0m\n",
      "\u001b[1;32m/usr/local/lib/python3.4/dist-packages/sklearn/tree/tree.py\u001b[0m in \u001b[0;36mfit\u001b[1;34m(self, X, y, sample_weight, check_input)\u001b[0m\n\u001b[0;32m    302\u001b[0m                                            max_leaf_nodes)\n\u001b[0;32m    303\u001b[0m \u001b[1;33m\u001b[0m\u001b[0m\n\u001b[1;32m--> 304\u001b[1;33m         \u001b[0mbuilder\u001b[0m\u001b[1;33m.\u001b[0m\u001b[0mbuild\u001b[0m\u001b[1;33m(\u001b[0m\u001b[0mself\u001b[0m\u001b[1;33m.\u001b[0m\u001b[0mtree_\u001b[0m\u001b[1;33m,\u001b[0m \u001b[0mX\u001b[0m\u001b[1;33m,\u001b[0m \u001b[0my\u001b[0m\u001b[1;33m,\u001b[0m \u001b[0msample_weight\u001b[0m\u001b[1;33m)\u001b[0m\u001b[1;33m\u001b[0m\u001b[0m\n\u001b[0m\u001b[0;32m    305\u001b[0m \u001b[1;33m\u001b[0m\u001b[0m\n\u001b[0;32m    306\u001b[0m         \u001b[1;32mif\u001b[0m \u001b[0mself\u001b[0m\u001b[1;33m.\u001b[0m\u001b[0mn_outputs_\u001b[0m \u001b[1;33m==\u001b[0m \u001b[1;36m1\u001b[0m\u001b[1;33m:\u001b[0m\u001b[1;33m\u001b[0m\u001b[0m\n",
      "\u001b[1;31mKeyboardInterrupt\u001b[0m: "
     ]
    }
   ],
   "source": [
    "%matplotlib inline\n",
    "%run hw3.py"
   ]
  },
  {
   "cell_type": "code",
   "execution_count": null,
   "metadata": {
    "collapsed": true
   },
   "outputs": [],
   "source": []
  }
 ],
 "metadata": {
  "kernelspec": {
   "display_name": "Python 3",
   "language": "python",
   "name": "python3"
  },
  "language_info": {
   "codemirror_mode": {
    "name": "ipython",
    "version": 3
   },
   "file_extension": ".py",
   "mimetype": "text/x-python",
   "name": "python",
   "nbconvert_exporter": "python",
   "pygments_lexer": "ipython3",
   "version": "3.4.3"
  }
 },
 "nbformat": 4,
 "nbformat_minor": 0
}
